{
 "cells": [
  {
   "cell_type": "code",
   "execution_count": 1,
   "metadata": {},
   "outputs": [],
   "source": [
    "__author__ = \"Brad Rice\"\n",
    "__version__ = 0.1"
   ]
  },
  {
   "cell_type": "code",
   "execution_count": 2,
   "metadata": {},
   "outputs": [
    {
     "name": "stderr",
     "output_type": "stream",
     "text": [
      "2024-02-24 16:57:27.131212: I tensorflow/core/platform/cpu_feature_guard.cc:182] This TensorFlow binary is optimized to use available CPU instructions in performance-critical operations.\n",
      "To enable the following instructions: AVX2 FMA, in other operations, rebuild TensorFlow with the appropriate compiler flags.\n"
     ]
    }
   ],
   "source": [
    "import os\n",
    "import datetime\n",
    "\n",
    "from tqdm import tqdm\n",
    "\n",
    "import numpy as np\n",
    "import tensorflow as tf\n",
    "import matplotlib.pyplot as plt\n",
    "\n",
    "from utils.OpticalFlowUtils import FlowReader\n",
    "from utils.OpticalFlowUtils import FlowVisualiser\n",
    "\n",
    "from utils.MPISintelUtils import MPISintelHandler\n",
    "\n",
    "from assets.ml.src.CustomLosses import EPE_Loss\n",
    "from assets.ml.src.POIFE_model import POIFE_TrunkNET\n",
    "from assets.ml.src.POIFE_model import POIFE_BranchNET\n",
    "from assets.ml.src.POIFE_model import OpticalFlowOperatorNetwork"
   ]
  },
  {
   "cell_type": "code",
   "execution_count": 3,
   "metadata": {},
   "outputs": [],
   "source": [
    "gpus = tf.config.list_physical_devices('GPU')\n",
    "if gpus:\n",
    "    # Restrict TensorFlow to only allocate 8.1GB of memory on the first GPU\n",
    "    try:\n",
    "        tf.config.set_logical_device_configuration(gpus[0], [tf.config.LogicalDeviceConfiguration(memory_limit=1024*8.1)])\n",
    "        logical_gpus = tf.config.list_logical_devices('GPU')\n",
    "        print(f\"{len(gpus)} Physical GPUs, {len(logical_gpus)} Logical GPUs\")\n",
    "    except RuntimeError as e:\n",
    "        # Virtual devices must be set before GPUs have been initialized\n",
    "        print(f\"Runtime Error: {e}\")"
   ]
  },
  {
   "cell_type": "code",
   "execution_count": 4,
   "metadata": {},
   "outputs": [],
   "source": [
    "reader = FlowReader()\n",
    "visualiser = FlowVisualiser()\n",
    "dataHandler = MPISintelHandler()"
   ]
  },
  {
   "cell_type": "code",
   "execution_count": 5,
   "metadata": {},
   "outputs": [],
   "source": [
    "SINTEL_PATH = os.path.join(\"..\", \"Data\", \"MPI-Sintel\")\n",
    "SINTEL_TRAINING_PATH = os.path.join(SINTEL_PATH, \"training\")\n",
    "SINTEL_TRAINING_FLOW_PATH = os.path.join(SINTEL_TRAINING_PATH, \"flow\")\n",
    "SINTEL_TRAINING_IMG_PATH = os.path.join(SINTEL_TRAINING_PATH, \"clean\")"
   ]
  },
  {
   "cell_type": "code",
   "execution_count": 6,
   "metadata": {},
   "outputs": [
    {
     "name": "stdout",
     "output_type": "stream",
     "text": [
      "SINTEL PATH: ../Data/MPI-Sintel\n",
      "SINTEL TRAINING PATH: ../Data/MPI-Sintel/training\n",
      "SINTEL TRAINING FLOW PATH: ../Data/MPI-Sintel/training/flow\n",
      "SINTEL TRAINING IMG PATH: ../Data/MPI-Sintel/training/clean\n"
     ]
    }
   ],
   "source": [
    "print(f\"SINTEL PATH: {SINTEL_PATH}\")\n",
    "print(f\"SINTEL TRAINING PATH: {SINTEL_TRAINING_PATH}\")\n",
    "print(f\"SINTEL TRAINING FLOW PATH: {SINTEL_TRAINING_FLOW_PATH}\")\n",
    "print(f\"SINTEL TRAINING IMG PATH: {SINTEL_TRAINING_IMG_PATH}\")"
   ]
  },
  {
   "cell_type": "code",
   "execution_count": 7,
   "metadata": {},
   "outputs": [
    {
     "name": "stdout",
     "output_type": "stream",
     "text": [
      "train_X: (510, 2, 436, 1024, 1) test_X: (297, 2, 436, 1024, 1) val_X: (234, 2, 436, 1024, 1) -> Total Samples: 1041\n",
      "train_y: (510, 436, 1024, 2) test_y: (297, 436, 1024, 2) val_y: (234, 436, 1024, 2) -> Total Samples: 1041\n"
     ]
    }
   ],
   "source": [
    "# Load the split data \n",
    "dataFilepath = os.path.join(\".\", \"assets\", \"data\", \"trainX.data\")\n",
    "train_X = dataHandler.loadData(dataFilepath)\n",
    "train_X = train_X.astype('float32') / 255.0\n",
    "train_X = tf.reshape(train_X, shape=(-1, 2, 436, 1024, 1))\n",
    "\n",
    "dataFilepath = os.path.join(\".\", \"assets\", \"data\", \"testX.data\")\n",
    "test_X = dataHandler.loadData(dataFilepath)\n",
    "test_X = test_X.astype('float32') / 255.0\n",
    "test_X = tf.reshape(test_X, shape=(-1, 2, 436, 1024, 1))\n",
    "\n",
    "dataFilepath = os.path.join(\".\", \"assets\", \"data\", \"valX.data\")\n",
    "val_X = dataHandler.loadData(dataFilepath)\n",
    "val_X = val_X.astype('float32') / 255.0\n",
    "val_X = tf.reshape(val_X, shape=(-1, 2, 436, 1024, 1))\n",
    "\n",
    "dataFilepath = os.path.join(\".\", \"assets\", \"data\", \"trainy.data\")\n",
    "train_y = dataHandler.loadData(dataFilepath)\n",
    "train_y = train_y.astype('float32')\n",
    "\n",
    "dataFilepath = os.path.join(\".\", \"assets\", \"data\", \"testy.data\")\n",
    "test_y = dataHandler.loadData(dataFilepath)\n",
    "test_y = test_y.astype('float32')\n",
    "\n",
    "dataFilepath = os.path.join(\".\", \"assets\", \"data\", \"valy.data\")\n",
    "val_y = dataHandler.loadData(dataFilepath)\n",
    "val_y = val_y.astype('float32')\n",
    "\n",
    "print(f\"train_X: {train_X.shape} test_X: {test_X.shape} val_X: {val_X.shape} -> Total Samples: {train_X.shape[0] + test_X.shape[0] + val_X.shape[0]}\")\n",
    "print(f\"train_y: {train_y.shape} test_y: {test_y.shape} val_y: {val_y.shape} -> Total Samples: {train_y.shape[0] + test_y.shape[0] + val_y.shape[0]}\")"
   ]
  },
  {
   "cell_type": "code",
   "execution_count": 8,
   "metadata": {},
   "outputs": [
    {
     "name": "stdout",
     "output_type": "stream",
     "text": [
      "[[0.00000000e+00 0.00000000e+00]\n",
      " [0.00000000e+00 9.77517107e-04]\n",
      " [0.00000000e+00 1.95503421e-03]\n",
      " ...\n",
      " [1.00000000e+00 9.98044966e-01]\n",
      " [1.00000000e+00 9.99022483e-01]\n",
      " [1.00000000e+00 1.00000000e+00]]\n",
      "(446464, 2)\n"
     ]
    }
   ],
   "source": [
    "grid = []\n",
    "for i in range(436):\n",
    "    for j in range(1024):\n",
    "        grid.append(np.array([i/435.0, j/1023.0]))\n",
    "\n",
    "grid = np.array(grid)\n",
    "print(grid)\n",
    "print(grid.shape)"
   ]
  },
  {
   "cell_type": "code",
   "execution_count": 9,
   "metadata": {},
   "outputs": [
    {
     "name": "stdout",
     "output_type": "stream",
     "text": [
      "[[[[ 9.56670439e-04  2.87547261e-01]\n",
      "   [ 9.32779512e-04  2.87351489e-01]\n",
      "   [ 9.08418908e-04  2.87155479e-01]\n",
      "   ...\n",
      "   [-2.03411281e-02  1.06134072e-01]\n",
      "   [-2.03549433e-02  1.05957687e-01]\n",
      "   [-2.03678887e-02  1.05780989e-01]]\n",
      "\n",
      "  [[ 1.12730695e-03  2.87458003e-01]\n",
      "   [ 1.08881353e-03  2.87308186e-01]\n",
      "   [ 1.05472549e-03  2.87151188e-01]\n",
      "   ...\n",
      "   [-2.01239549e-02  1.06104583e-01]\n",
      "   [-2.01377012e-02  1.05928198e-01]\n",
      "   [-2.01514680e-02  1.05751798e-01]]\n",
      "\n",
      "  [[ 1.30170910e-03  2.87362754e-01]\n",
      "   [ 1.26331626e-03  2.87212938e-01]\n",
      "   [ 1.22491783e-03  2.87063122e-01]\n",
      "   ...\n",
      "   [-1.99067872e-02  1.06075212e-01]\n",
      "   [-1.99204721e-02  1.05898827e-01]\n",
      "   [-1.99341699e-02  1.05722427e-01]]\n",
      "\n",
      "  ...\n",
      "\n",
      "  [[ 5.98943532e-02  2.85228223e-01]\n",
      "   [ 5.99022470e-02  2.85053194e-01]\n",
      "   [ 5.99101372e-02  2.84878135e-01]\n",
      "   ...\n",
      "   [ 7.43213445e-02  1.12670906e-01]\n",
      "   [ 7.43934289e-02  1.12487696e-01]\n",
      "   [ 7.43272975e-02  1.12285547e-01]]\n",
      "\n",
      "  [[ 6.00368902e-02  2.85254538e-01]\n",
      "   [ 6.00448474e-02  2.85079509e-01]\n",
      "   [ 6.00528233e-02  2.84904480e-01]\n",
      "   ...\n",
      "   [ 7.45824352e-02  1.12690166e-01]\n",
      "   [ 7.45304525e-02  1.12490959e-01]\n",
      "   [ 7.45472163e-02  1.12327985e-01]]\n",
      "\n",
      "  [[ 6.01793900e-02  2.85281003e-01]\n",
      "   [ 6.01874106e-02  2.85105973e-01]\n",
      "   [ 6.01954721e-02  2.84930944e-01]\n",
      "   ...\n",
      "   [ 7.46988431e-02  1.12692475e-01]\n",
      "   [ 7.47399926e-02  1.12525254e-01]\n",
      "   [ 7.47651756e-02  1.12336725e-01]]]\n",
      "\n",
      "\n",
      " [[[-1.76540967e-02  2.93314189e-01]\n",
      "   [-1.76855121e-02  2.93132424e-01]\n",
      "   [-1.77169796e-02  2.92950630e-01]\n",
      "   ...\n",
      "   [-3.58957760e-02  1.07246675e-01]\n",
      "   [-3.58925611e-02  1.07061870e-01]\n",
      "   [-3.58956680e-02  1.06878377e-01]]\n",
      "\n",
      "  [[-1.75742693e-02  2.93290257e-01]\n",
      "   [-1.75445769e-02  2.93103486e-01]\n",
      "   [-1.75625738e-02  2.92919338e-01]\n",
      "   ...\n",
      "   [-3.56861874e-02  1.07220195e-01]\n",
      "   [-3.56828868e-02  1.07035421e-01]\n",
      "   [-3.56795266e-02  1.06850646e-01]]\n",
      "\n",
      "  [[-1.75402332e-02  2.93269187e-01]\n",
      "   [-1.75104421e-02  2.93082416e-01]\n",
      "   [-1.74806565e-02  2.92895645e-01]\n",
      "   ...\n",
      "   [-3.54765989e-02  1.07193895e-01]\n",
      "   [-3.54732126e-02  1.07009158e-01]\n",
      "   [-3.54697667e-02  1.06824405e-01]]\n",
      "\n",
      "  ...\n",
      "\n",
      "  [[ 3.39823179e-02  2.93534756e-01]\n",
      "   [ 3.39988060e-02  2.93354928e-01]\n",
      "   [ 3.40152532e-02  2.93175101e-01]\n",
      "   ...\n",
      "   [ 5.15717231e-02  1.21060416e-01]\n",
      "   [ 5.15781045e-02  1.20868787e-01]\n",
      "   [ 5.16287237e-02  1.20688073e-01]]\n",
      "\n",
      "  [[ 3.41241695e-02  2.93564618e-01]\n",
      "   [ 3.41406874e-02  2.93384790e-01]\n",
      "   [ 3.41571867e-02  2.93204963e-01]\n",
      "   ...\n",
      "   [ 5.17388545e-02  1.21113047e-01]\n",
      "   [ 5.18211611e-02  1.20921992e-01]\n",
      "   [ 5.18705621e-02  1.20724499e-01]]\n",
      "\n",
      "  [[ 3.42659838e-02  2.93594599e-01]\n",
      "   [ 3.42825800e-02  2.93414772e-01]\n",
      "   [ 3.42991576e-02  2.93234944e-01]\n",
      "   ...\n",
      "   [ 5.20485193e-02  1.21148974e-01]\n",
      "   [ 5.20560853e-02  1.20943837e-01]\n",
      "   [ 5.20652197e-02  1.20753191e-01]]]\n",
      "\n",
      "\n",
      " [[[-2.54303347e-02  2.99420416e-01]\n",
      "   [-2.54873298e-02  2.99246877e-01]\n",
      "   [-2.55442895e-02  2.99073309e-01]\n",
      "   ...\n",
      "   [-2.15164423e-02  1.06281720e-01]\n",
      "   [-2.15247162e-02  1.06098793e-01]\n",
      "   [-2.15327330e-02  1.05915807e-01]]\n",
      "\n",
      "  [[-2.52349619e-02  2.99379766e-01]\n",
      "   [-2.52860878e-02  2.99197733e-01]\n",
      "   [-2.53429934e-02  2.99024194e-01]\n",
      "   ...\n",
      "   [-2.13022362e-02  1.06259272e-01]\n",
      "   [-2.13104468e-02  1.06076360e-01]\n",
      "   [-2.13186443e-02  1.05893455e-01]]\n",
      "\n",
      "  [[-2.50300393e-02  2.99366564e-01]\n",
      "   [-2.50894874e-02  2.99174607e-01]\n",
      "   [-2.51488890e-02  2.98982620e-01]\n",
      "   ...\n",
      "   [-2.10880339e-02  1.06236964e-01]\n",
      "   [-2.10961867e-02  1.06054053e-01]\n",
      "   [-2.11043209e-02  1.05871148e-01]]\n",
      "\n",
      "  ...\n",
      "\n",
      "  [[ 6.14784509e-02  2.92898983e-01]\n",
      "   [ 6.14804067e-02  2.92719245e-01]\n",
      "   [ 6.14823923e-02  2.92539477e-01]\n",
      "   ...\n",
      "   [ 7.91431442e-02  1.13921851e-01]\n",
      "   [ 7.91778415e-02  1.13757111e-01]\n",
      "   [ 7.92358369e-02  1.13560967e-01]]\n",
      "\n",
      "  [[ 6.16127476e-02  2.92933494e-01]\n",
      "   [ 6.16148040e-02  2.92753756e-01]\n",
      "   [ 6.16168603e-02  2.92574018e-01]\n",
      "   ...\n",
      "   [ 7.93683082e-02  1.13965206e-01]\n",
      "   [ 7.94225037e-02  1.13787010e-01]\n",
      "   [ 7.93923587e-02  1.13578558e-01]]\n",
      "\n",
      "  [[ 6.17470145e-02  2.92968124e-01]\n",
      "   [ 6.17491454e-02  2.92788386e-01]\n",
      "   [ 6.17513247e-02  2.92608678e-01]\n",
      "   ...\n",
      "   [ 7.95899704e-02  1.14002064e-01]\n",
      "   [ 7.95814693e-02  1.13810025e-01]\n",
      "   [ 7.95756206e-02  1.13605849e-01]]]\n",
      "\n",
      "\n",
      " ...\n",
      "\n",
      "\n",
      " [[[-0.00000000e+00  0.00000000e+00]\n",
      "   [-0.00000000e+00  0.00000000e+00]\n",
      "   [-0.00000000e+00  0.00000000e+00]\n",
      "   ...\n",
      "   [-0.00000000e+00  0.00000000e+00]\n",
      "   [-0.00000000e+00  0.00000000e+00]\n",
      "   [-0.00000000e+00  0.00000000e+00]]\n",
      "\n",
      "  [[-0.00000000e+00  0.00000000e+00]\n",
      "   [-0.00000000e+00  0.00000000e+00]\n",
      "   [-0.00000000e+00  0.00000000e+00]\n",
      "   ...\n",
      "   [-0.00000000e+00  0.00000000e+00]\n",
      "   [-0.00000000e+00  0.00000000e+00]\n",
      "   [-0.00000000e+00  0.00000000e+00]]\n",
      "\n",
      "  [[-0.00000000e+00  0.00000000e+00]\n",
      "   [-0.00000000e+00  0.00000000e+00]\n",
      "   [-0.00000000e+00  0.00000000e+00]\n",
      "   ...\n",
      "   [-0.00000000e+00  0.00000000e+00]\n",
      "   [-0.00000000e+00  0.00000000e+00]\n",
      "   [-0.00000000e+00  0.00000000e+00]]\n",
      "\n",
      "  ...\n",
      "\n",
      "  [[ 2.54827738e-01 -3.87166262e-01]\n",
      "   [ 2.54336357e-01 -3.86700273e-01]\n",
      "   [ 2.53845245e-01 -3.86233538e-01]\n",
      "   ...\n",
      "   [ 1.78032101e-03 -1.73718343e-03]\n",
      "   [ 1.79615756e-03 -1.74106634e-03]\n",
      "   [ 1.81177421e-03 -1.74801378e-03]]\n",
      "\n",
      "  [[ 2.54352152e-01 -3.87337238e-01]\n",
      "   [ 2.53861159e-01 -3.86870921e-01]\n",
      "   [ 2.53370821e-01 -3.86404693e-01]\n",
      "   ...\n",
      "   [ 1.71082129e-03 -1.66975323e-03]\n",
      "   [ 1.72638323e-03 -1.67534046e-03]\n",
      "   [ 1.74184982e-03 -1.68252690e-03]]\n",
      "\n",
      "  [[ 2.53876567e-01 -3.87507349e-01]\n",
      "   [ 2.53387660e-01 -3.87040645e-01]\n",
      "   [ 2.52909631e-01 -3.86573285e-01]\n",
      "   ...\n",
      "   [ 1.64299970e-03 -1.60399021e-03]\n",
      "   [ 1.65658584e-03 -1.61012972e-03]\n",
      "   [ 1.67192507e-03 -1.61729276e-03]]]\n",
      "\n",
      "\n",
      " [[[-0.00000000e+00  0.00000000e+00]\n",
      "   [-0.00000000e+00  0.00000000e+00]\n",
      "   [-0.00000000e+00  0.00000000e+00]\n",
      "   ...\n",
      "   [-0.00000000e+00  0.00000000e+00]\n",
      "   [-0.00000000e+00  0.00000000e+00]\n",
      "   [-0.00000000e+00  0.00000000e+00]]\n",
      "\n",
      "  [[-0.00000000e+00  0.00000000e+00]\n",
      "   [-0.00000000e+00  0.00000000e+00]\n",
      "   [-0.00000000e+00  0.00000000e+00]\n",
      "   ...\n",
      "   [-0.00000000e+00  0.00000000e+00]\n",
      "   [-0.00000000e+00  0.00000000e+00]\n",
      "   [-0.00000000e+00  0.00000000e+00]]\n",
      "\n",
      "  [[-0.00000000e+00  0.00000000e+00]\n",
      "   [-0.00000000e+00  0.00000000e+00]\n",
      "   [-0.00000000e+00  0.00000000e+00]\n",
      "   ...\n",
      "   [-0.00000000e+00  0.00000000e+00]\n",
      "   [-0.00000000e+00  0.00000000e+00]\n",
      "   [-0.00000000e+00  0.00000000e+00]]\n",
      "\n",
      "  ...\n",
      "\n",
      "  [[-1.88766077e-01  2.89804488e-01]\n",
      "   [-1.88407496e-01  2.89452702e-01]\n",
      "   [-1.88049331e-01  2.89100945e-01]\n",
      "   ...\n",
      "   [ 2.43208953e-03 -2.34235125e-03]\n",
      "   [ 2.43524835e-03 -2.35275598e-03]\n",
      "   [ 2.45282357e-03 -2.35684589e-03]]\n",
      "\n",
      "  [[-1.88408941e-01  2.89931655e-01]\n",
      "   [-1.88050628e-01  2.89579600e-01]\n",
      "   [-1.87692791e-01  2.89227635e-01]\n",
      "   ...\n",
      "   [ 2.34153448e-03 -2.25757645e-03]\n",
      "   [ 2.35263398e-03 -2.26441585e-03]\n",
      "   [ 2.37130420e-03 -2.26793229e-03]]\n",
      "\n",
      "  [[-1.88051760e-01  2.90058106e-01]\n",
      "   [-1.87702328e-01  2.89705813e-01]\n",
      "   [-1.87355444e-01  2.89353549e-01]\n",
      "   ...\n",
      "   [ 2.25362717e-03 -2.17442424e-03]\n",
      "   [ 2.27126316e-03 -2.17582658e-03]\n",
      "   [ 2.28978693e-03 -2.17931881e-03]]]\n",
      "\n",
      "\n",
      " [[[-0.00000000e+00  0.00000000e+00]\n",
      "   [-0.00000000e+00  0.00000000e+00]\n",
      "   [-0.00000000e+00  0.00000000e+00]\n",
      "   ...\n",
      "   [-0.00000000e+00  0.00000000e+00]\n",
      "   [-0.00000000e+00  0.00000000e+00]\n",
      "   [-0.00000000e+00  0.00000000e+00]]\n",
      "\n",
      "  [[-0.00000000e+00  0.00000000e+00]\n",
      "   [-0.00000000e+00  0.00000000e+00]\n",
      "   [-0.00000000e+00  0.00000000e+00]\n",
      "   ...\n",
      "   [-0.00000000e+00  0.00000000e+00]\n",
      "   [-0.00000000e+00  0.00000000e+00]\n",
      "   [-0.00000000e+00  0.00000000e+00]]\n",
      "\n",
      "  [[-0.00000000e+00  0.00000000e+00]\n",
      "   [-0.00000000e+00  0.00000000e+00]\n",
      "   [-0.00000000e+00  0.00000000e+00]\n",
      "   ...\n",
      "   [-0.00000000e+00  0.00000000e+00]\n",
      "   [-0.00000000e+00  0.00000000e+00]\n",
      "   [-0.00000000e+00  0.00000000e+00]]\n",
      "\n",
      "  ...\n",
      "\n",
      "  [[-6.01532817e-01  9.14921403e-01]\n",
      "   [-6.00366950e-01  9.13794279e-01]\n",
      "   [-5.99202573e-01  9.12667334e-01]\n",
      "   ...\n",
      "   [ 3.23293125e-03 -3.10127926e-03]\n",
      "   [ 3.25071509e-03 -3.10953008e-03]\n",
      "   [ 3.26826330e-03 -3.12073412e-03]]\n",
      "\n",
      "  [[-6.00438297e-01  9.15279210e-01]\n",
      "   [-5.99273562e-01  9.14151490e-01]\n",
      "   [-5.98110139e-01  9.13023770e-01]\n",
      "   ...\n",
      "   [ 3.11864563e-03 -2.98490212e-03]\n",
      "   [ 3.13607324e-03 -2.99479719e-03]\n",
      "   [ 3.15339537e-03 -3.00624385e-03]]\n",
      "\n",
      "  [[-5.99343836e-01  9.15634990e-01]\n",
      "   [-5.98184407e-01  9.14514899e-01]\n",
      "   [-5.97036123e-01  9.13413763e-01]\n",
      "   ...\n",
      "   [ 3.00723710e-03 -2.87157227e-03]\n",
      "   [ 3.02140950e-03 -2.88073439e-03]\n",
      "   [ 3.03852675e-03 -2.89216125e-03]]]]\n",
      "(436, 1024, 2)\n"
     ]
    }
   ],
   "source": [
    "print(train_y)\n",
    "print(train_y[0].shape)"
   ]
  },
  {
   "cell_type": "code",
   "execution_count": 10,
   "metadata": {},
   "outputs": [
    {
     "name": "stdout",
     "output_type": "stream",
     "text": [
      "[[0.00095667 0.28754726]\n",
      " [0.00093278 0.2873515 ]\n",
      " [0.00090842 0.28715548]\n",
      " ...\n",
      " [0.07469884 0.11269248]\n",
      " [0.07473999 0.11252525]\n",
      " [0.07476518 0.11233672]]\n",
      "(446464, 2)\n"
     ]
    }
   ],
   "source": [
    "flow = train_y[0]\n",
    "print(flow.reshape(436*1024, 2))\n",
    "print(flow.reshape(436*1024, 2).shape)"
   ]
  },
  {
   "cell_type": "code",
   "execution_count": 17,
   "metadata": {},
   "outputs": [
    {
     "name": "stdout",
     "output_type": "stream",
     "text": [
      "Model: \"optical_flow_operator_network\"\n",
      "_________________________________________________________________\n",
      " Layer (type)                Output Shape              Param #   \n",
      "=================================================================\n",
      " poife__branch_net (POIFE_B  multiple                  12585418  \n",
      " ranchNET)                                                       \n",
      "                                                                 \n",
      " poife__trunk_net (POIFE_Tr  multiple                  1545050   \n",
      " unkNET)                                                         \n",
      "                                                                 \n",
      " bias_layer (BiasLayer)      multiple                  1         \n",
      "                                                                 \n",
      " bias_layer_1 (BiasLayer)    multiple                  1         \n",
      "                                                                 \n",
      "=================================================================\n",
      "Total params: 14130470 (53.90 MB)\n",
      "Trainable params: 14125542 (53.88 MB)\n",
      "Non-trainable params: 4928 (19.25 KB)\n",
      "_________________________________________________________________\n"
     ]
    }
   ],
   "source": [
    "deepONET = OpticalFlowOperatorNetwork()\n",
    "\n",
    "deepONET.build(input_shape=[(None, 2, 436, 1024, 1), (None, 2)])\n",
    "deepONET.summary()"
   ]
  },
  {
   "cell_type": "code",
   "execution_count": 11,
   "metadata": {},
   "outputs": [],
   "source": [
    "first = tf.reshape(train_X[0], shape = (1, 2, 436, 1024, 1))"
   ]
  },
  {
   "cell_type": "code",
   "execution_count": 21,
   "metadata": {},
   "outputs": [
    {
     "name": "stdout",
     "output_type": "stream",
     "text": [
      "(446464, 2)24/1024\n",
      "[[[ 0.00000000e+00  0.00000000e+00]\n",
      "  [-1.06569883e-06  1.03230036e-06]\n",
      "  [-2.13139765e-06  2.06460072e-06]\n",
      "  ...\n",
      "  [-1.05121033e-03  9.97041934e-04]\n",
      "  [-1.05217216e-03  9.97913885e-04]\n",
      "  [-1.05313270e-03  9.98787000e-04]]\n",
      "\n",
      " [[ 4.92135968e-08  2.34896277e-07]\n",
      "  [-1.01648652e-06  1.26719578e-06]\n",
      "  [-2.08218285e-06  2.29949660e-06]\n",
      "  ...\n",
      "  [-1.05113816e-03  9.97289317e-04]\n",
      "  [-1.05209916e-03  9.98162432e-04]\n",
      "  [-1.05306040e-03  9.99034615e-04]]\n",
      "\n",
      " [[ 9.84278330e-08  4.69794372e-07]\n",
      "  [-9.67266942e-07  1.50209235e-06]\n",
      "  [-2.03296668e-06  2.53438975e-06]\n",
      "  ...\n",
      "  [-1.05106481e-03  9.97536583e-04]\n",
      "  [-1.05202664e-03  9.98409232e-04]\n",
      "  [-1.05298753e-03  9.99281765e-04]]\n",
      "\n",
      " ...\n",
      "\n",
      " [[ 2.47447751e-05  1.05623527e-04]\n",
      "  [ 2.37292606e-05  1.06629530e-04]\n",
      "  [ 2.27143119e-05  1.07635162e-04]\n",
      "  ...\n",
      "  [-9.71315661e-04  1.08523061e-03]\n",
      "  [-9.72224516e-04  1.08609907e-03]\n",
      "  [-9.73133894e-04  1.08696695e-03]]\n",
      "\n",
      " [[ 2.48171254e-05  1.05883366e-04]\n",
      "  [ 2.38021676e-05  1.06889362e-04]\n",
      "  [ 2.27868532e-05  1.07895190e-04]\n",
      "  ...\n",
      "  [-9.71027592e-04  1.08539849e-03]\n",
      "  [-9.71936330e-04  1.08626683e-03]\n",
      "  [-9.72845359e-04  1.08713529e-03]]\n",
      "\n",
      " [[ 2.48895376e-05  1.06143430e-04]\n",
      "  [ 2.38743905e-05  1.07149201e-04]\n",
      "  [ 2.28594727e-05  1.08154818e-04]\n",
      "  ...\n",
      "  [-9.70738125e-04  1.08556717e-03]\n",
      "  [-9.71647445e-04  1.08643505e-03]\n",
      "  [-9.72556474e-04  1.08730234e-03]]]\n"
     ]
    }
   ],
   "source": [
    "preds = []\n",
    "for i in range(436):\n",
    "    for j in range(1024):\n",
    "        x = i / 435.0\n",
    "        y = j / 1024.0\n",
    "        print(f\"{i+1}/{436}, {j+1}/{1024}\", end = '\\r')\n",
    "        out = deepONET([first, np.array([x, y]).reshape(1, 2)])\n",
    "        preds.append(out.numpy().ravel())\n",
    "\n",
    "preds = np.array(preds)\n",
    "print(preds.shape)\n",
    "\n",
    "preds = preds.reshape(436, 1024, 2)\n",
    "print(preds)"
   ]
  },
  {
   "cell_type": "code",
   "execution_count": 1,
   "metadata": {},
   "outputs": [
    {
     "ename": "NameError",
     "evalue": "name 'preds' is not defined",
     "output_type": "error",
     "traceback": [
      "\u001b[0;31m---------------------------------------------------------------------------\u001b[0m",
      "\u001b[0;31mNameError\u001b[0m                                 Traceback (most recent call last)",
      "Cell \u001b[0;32mIn[1], line 1\u001b[0m\n\u001b[0;32m----> 1\u001b[0m \u001b[43mpreds\u001b[49m\u001b[38;5;241m.\u001b[39mshape\n",
      "\u001b[0;31mNameError\u001b[0m: name 'preds' is not defined"
     ]
    }
   ],
   "source": [
    "preds.shape"
   ]
  },
  {
   "cell_type": "code",
   "execution_count": 23,
   "metadata": {},
   "outputs": [
    {
     "data": {
      "image/png": "[encoded data removed]",
      "text/plain": [
       "<Figure size 2000x1200 with 1 Axes>"
      ]
     },
     "metadata": {},
     "output_type": "display_data"
    }
   ],
   "source": [
    "visualiser.visualiseOpticalFlow(preds)"
   ]
  },
  {
   "cell_type": "code",
   "execution_count": 12,
   "metadata": {},
   "outputs": [],
   "source": [
    "imageGrid = []\n",
    "for i in range(436):\n",
    "    for j in range(1024):\n",
    "        imageGrid.append(np.array([i/435.0, j/1023.0]))\n",
    "\n",
    "imageGrid = np.array(imageGrid)"
   ]
  },
  {
   "cell_type": "code",
   "execution_count": 13,
   "metadata": {},
   "outputs": [
    {
     "name": "stdout",
     "output_type": "stream",
     "text": [
      "(1024, 2, 436, 1024, 1)\n"
     ]
    }
   ],
   "source": [
    "first_broadcasted = tf.broadcast_to(first, (1024, 2, 436, 1024, 1))\n",
    "print(first_broadcasted.shape)"
   ]
  },
  {
   "cell_type": "code",
   "execution_count": 27,
   "metadata": {},
   "outputs": [
    {
     "name": "stdout",
     "output_type": "stream",
     "text": [
      "2/2 [==============================] - 589s 334s/step\n",
      "(1024, 2)\n"
     ]
    }
   ],
   "source": [
    "out = deepONET.predict([first_broadcasted, imageGrid[0:1024]], batch_size=256, verbose = True)\n",
    "print(out.shape)"
   ]
  },
  {
   "cell_type": "code",
   "execution_count": 28,
   "metadata": {},
   "outputs": [
    {
     "data": {
      "text/plain": [
       "array([[ 0.0000000e+00,  0.0000000e+00],\n",
       "       [-3.4503404e-07, -1.3275513e-06],\n",
       "       [-6.9006592e-07, -2.6550988e-06],\n",
       "       ...,\n",
       "       [-3.4511453e-04, -1.2550144e-03],\n",
       "       [-3.4543686e-04, -1.2560620e-03],\n",
       "       [-3.4575898e-04, -1.2571065e-03]], dtype=float32)"
      ]
     },
     "execution_count": 28,
     "metadata": {},
     "output_type": "execute_result"
    }
   ],
   "source": [
    "out"
   ]
  },
  {
   "cell_type": "code",
   "execution_count": 29,
   "metadata": {},
   "outputs": [
    {
     "name": "stderr",
     "output_type": "stream",
     "text": [
      "  0%|          | 0/436 [00:00<?, ?it/s]"
     ]
    },
    {
     "name": "stdout",
     "output_type": "stream",
     "text": [
      "64/64 [==============================] - 215s 3s/step\n"
     ]
    },
    {
     "name": "stderr",
     "output_type": "stream",
     "text": [
      "  0%|          | 1/436 [03:35<26:00:26, 215.23s/it]"
     ]
    },
    {
     "name": "stdout",
     "output_type": "stream",
     "text": [
      "64/64 [==============================] - 261s 4s/step\n"
     ]
    },
    {
     "name": "stderr",
     "output_type": "stream",
     "text": [
      "  0%|          | 2/436 [07:57<29:16:28, 242.83s/it]"
     ]
    },
    {
     "name": "stdout",
     "output_type": "stream",
     "text": [
      "64/64 [==============================] - 219s 3s/step\n"
     ]
    },
    {
     "name": "stderr",
     "output_type": "stream",
     "text": [
      "  1%|          | 3/436 [11:37<27:55:57, 232.23s/it]"
     ]
    },
    {
     "name": "stdout",
     "output_type": "stream",
     "text": [
      "64/64 [==============================] - 224s 3s/step\n"
     ]
    },
    {
     "name": "stderr",
     "output_type": "stream",
     "text": [
      "  1%|          | 4/436 [15:21<27:29:23, 229.08s/it]"
     ]
    },
    {
     "name": "stdout",
     "output_type": "stream",
     "text": [
      "12/64 [====>.........................] - ETA: 2:54"
     ]
    },
    {
     "name": "stderr",
     "output_type": "stream",
     "text": [
      "  1%|          | 4/436 [16:06<29:00:03, 241.67s/it]\n"
     ]
    },
    {
     "ename": "KeyboardInterrupt",
     "evalue": "",
     "output_type": "error",
     "traceback": [
      "\u001b[0;31m---------------------------------------------------------------------------\u001b[0m",
      "\u001b[0;31mKeyboardInterrupt\u001b[0m                         Traceback (most recent call last)",
      "Cell \u001b[0;32mIn[29], line 4\u001b[0m\n\u001b[1;32m      2\u001b[0m \u001b[38;5;28;01mfor\u001b[39;00m i \u001b[38;5;129;01min\u001b[39;00m tqdm(\u001b[38;5;28mrange\u001b[39m(\u001b[38;5;241m436\u001b[39m)):\n\u001b[1;32m      3\u001b[0m     row  \u001b[38;5;241m=\u001b[39m imageGrid[i\u001b[38;5;241m*\u001b[39m\u001b[38;5;241m1024\u001b[39m:(i\u001b[38;5;241m+\u001b[39m\u001b[38;5;241m1\u001b[39m)\u001b[38;5;241m*\u001b[39m\u001b[38;5;241m1024\u001b[39m]\n\u001b[0;32m----> 4\u001b[0m     out \u001b[38;5;241m=\u001b[39m \u001b[43mdeepONET\u001b[49m\u001b[38;5;241;43m.\u001b[39;49m\u001b[43mpredict\u001b[49m\u001b[43m(\u001b[49m\u001b[43m[\u001b[49m\u001b[43mfirst_broadcasted\u001b[49m\u001b[43m,\u001b[49m\u001b[43m \u001b[49m\u001b[43mrow\u001b[49m\u001b[43m]\u001b[49m\u001b[43m,\u001b[49m\u001b[43m \u001b[49m\u001b[43mbatch_size\u001b[49m\u001b[38;5;241;43m=\u001b[39;49m\u001b[38;5;241;43m16\u001b[39;49m\u001b[43m,\u001b[49m\u001b[43m \u001b[49m\u001b[43mverbose\u001b[49m\u001b[43m \u001b[49m\u001b[38;5;241;43m=\u001b[39;49m\u001b[43m \u001b[49m\u001b[38;5;28;43;01mTrue\u001b[39;49;00m\u001b[43m)\u001b[49m\n\u001b[1;32m      5\u001b[0m     preds\u001b[38;5;241m.\u001b[39mappend(out)\n\u001b[1;32m      7\u001b[0m preds \u001b[38;5;241m=\u001b[39m np\u001b[38;5;241m.\u001b[39marray(preds)\n",
      "File \u001b[0;32m/usr/local/lib/python3.11/site-packages/keras/src/utils/traceback_utils.py:65\u001b[0m, in \u001b[0;36mfilter_traceback.<locals>.error_handler\u001b[0;34m(*args, **kwargs)\u001b[0m\n\u001b[1;32m     63\u001b[0m filtered_tb \u001b[38;5;241m=\u001b[39m \u001b[38;5;28;01mNone\u001b[39;00m\n\u001b[1;32m     64\u001b[0m \u001b[38;5;28;01mtry\u001b[39;00m:\n\u001b[0;32m---> 65\u001b[0m     \u001b[38;5;28;01mreturn\u001b[39;00m \u001b[43mfn\u001b[49m\u001b[43m(\u001b[49m\u001b[38;5;241;43m*\u001b[39;49m\u001b[43margs\u001b[49m\u001b[43m,\u001b[49m\u001b[43m \u001b[49m\u001b[38;5;241;43m*\u001b[39;49m\u001b[38;5;241;43m*\u001b[39;49m\u001b[43mkwargs\u001b[49m\u001b[43m)\u001b[49m\n\u001b[1;32m     66\u001b[0m \u001b[38;5;28;01mexcept\u001b[39;00m \u001b[38;5;167;01mException\u001b[39;00m \u001b[38;5;28;01mas\u001b[39;00m e:\n\u001b[1;32m     67\u001b[0m     filtered_tb \u001b[38;5;241m=\u001b[39m _process_traceback_frames(e\u001b[38;5;241m.\u001b[39m__traceback__)\n",
      "File \u001b[0;32m/usr/local/lib/python3.11/site-packages/keras/src/engine/training.py:2631\u001b[0m, in \u001b[0;36mModel.predict\u001b[0;34m(self, x, batch_size, verbose, steps, callbacks, max_queue_size, workers, use_multiprocessing)\u001b[0m\n\u001b[1;32m   2629\u001b[0m \u001b[38;5;28;01mfor\u001b[39;00m step \u001b[38;5;129;01min\u001b[39;00m data_handler\u001b[38;5;241m.\u001b[39msteps():\n\u001b[1;32m   2630\u001b[0m     callbacks\u001b[38;5;241m.\u001b[39mon_predict_batch_begin(step)\n\u001b[0;32m-> 2631\u001b[0m     tmp_batch_outputs \u001b[38;5;241m=\u001b[39m \u001b[38;5;28;43mself\u001b[39;49m\u001b[38;5;241;43m.\u001b[39;49m\u001b[43mpredict_function\u001b[49m\u001b[43m(\u001b[49m\u001b[43miterator\u001b[49m\u001b[43m)\u001b[49m\n\u001b[1;32m   2632\u001b[0m     \u001b[38;5;28;01mif\u001b[39;00m data_handler\u001b[38;5;241m.\u001b[39mshould_sync:\n\u001b[1;32m   2633\u001b[0m         context\u001b[38;5;241m.\u001b[39masync_wait()\n",
      "File \u001b[0;32m/usr/local/lib/python3.11/site-packages/tensorflow/python/util/traceback_utils.py:150\u001b[0m, in \u001b[0;36mfilter_traceback.<locals>.error_handler\u001b[0;34m(*args, **kwargs)\u001b[0m\n\u001b[1;32m    148\u001b[0m filtered_tb \u001b[38;5;241m=\u001b[39m \u001b[38;5;28;01mNone\u001b[39;00m\n\u001b[1;32m    149\u001b[0m \u001b[38;5;28;01mtry\u001b[39;00m:\n\u001b[0;32m--> 150\u001b[0m   \u001b[38;5;28;01mreturn\u001b[39;00m \u001b[43mfn\u001b[49m\u001b[43m(\u001b[49m\u001b[38;5;241;43m*\u001b[39;49m\u001b[43margs\u001b[49m\u001b[43m,\u001b[49m\u001b[43m \u001b[49m\u001b[38;5;241;43m*\u001b[39;49m\u001b[38;5;241;43m*\u001b[39;49m\u001b[43mkwargs\u001b[49m\u001b[43m)\u001b[49m\n\u001b[1;32m    151\u001b[0m \u001b[38;5;28;01mexcept\u001b[39;00m \u001b[38;5;167;01mException\u001b[39;00m \u001b[38;5;28;01mas\u001b[39;00m e:\n\u001b[1;32m    152\u001b[0m   filtered_tb \u001b[38;5;241m=\u001b[39m _process_traceback_frames(e\u001b[38;5;241m.\u001b[39m__traceback__)\n",
      "File \u001b[0;32m/usr/local/lib/python3.11/site-packages/tensorflow/python/eager/polymorphic_function/polymorphic_function.py:831\u001b[0m, in \u001b[0;36mFunction.__call__\u001b[0;34m(self, *args, **kwds)\u001b[0m\n\u001b[1;32m    828\u001b[0m compiler \u001b[38;5;241m=\u001b[39m \u001b[38;5;124m\"\u001b[39m\u001b[38;5;124mxla\u001b[39m\u001b[38;5;124m\"\u001b[39m \u001b[38;5;28;01mif\u001b[39;00m \u001b[38;5;28mself\u001b[39m\u001b[38;5;241m.\u001b[39m_jit_compile \u001b[38;5;28;01melse\u001b[39;00m \u001b[38;5;124m\"\u001b[39m\u001b[38;5;124mnonXla\u001b[39m\u001b[38;5;124m\"\u001b[39m\n\u001b[1;32m    830\u001b[0m \u001b[38;5;28;01mwith\u001b[39;00m OptionalXlaContext(\u001b[38;5;28mself\u001b[39m\u001b[38;5;241m.\u001b[39m_jit_compile):\n\u001b[0;32m--> 831\u001b[0m   result \u001b[38;5;241m=\u001b[39m \u001b[38;5;28;43mself\u001b[39;49m\u001b[38;5;241;43m.\u001b[39;49m\u001b[43m_call\u001b[49m\u001b[43m(\u001b[49m\u001b[38;5;241;43m*\u001b[39;49m\u001b[43margs\u001b[49m\u001b[43m,\u001b[49m\u001b[43m \u001b[49m\u001b[38;5;241;43m*\u001b[39;49m\u001b[38;5;241;43m*\u001b[39;49m\u001b[43mkwds\u001b[49m\u001b[43m)\u001b[49m\n\u001b[1;32m    833\u001b[0m new_tracing_count \u001b[38;5;241m=\u001b[39m \u001b[38;5;28mself\u001b[39m\u001b[38;5;241m.\u001b[39mexperimental_get_tracing_count()\n\u001b[1;32m    834\u001b[0m without_tracing \u001b[38;5;241m=\u001b[39m (tracing_count \u001b[38;5;241m==\u001b[39m new_tracing_count)\n",
      "File \u001b[0;32m/usr/local/lib/python3.11/site-packages/tensorflow/python/eager/polymorphic_function/polymorphic_function.py:876\u001b[0m, in \u001b[0;36mFunction._call\u001b[0;34m(self, *args, **kwds)\u001b[0m\n\u001b[1;32m    873\u001b[0m \u001b[38;5;28mself\u001b[39m\u001b[38;5;241m.\u001b[39m_lock\u001b[38;5;241m.\u001b[39mrelease()\n\u001b[1;32m    874\u001b[0m \u001b[38;5;66;03m# In this case we have not created variables on the first call. So we can\u001b[39;00m\n\u001b[1;32m    875\u001b[0m \u001b[38;5;66;03m# run the first trace but we should fail if variables are created.\u001b[39;00m\n\u001b[0;32m--> 876\u001b[0m results \u001b[38;5;241m=\u001b[39m \u001b[43mtracing_compilation\u001b[49m\u001b[38;5;241;43m.\u001b[39;49m\u001b[43mcall_function\u001b[49m\u001b[43m(\u001b[49m\n\u001b[1;32m    877\u001b[0m \u001b[43m    \u001b[49m\u001b[43margs\u001b[49m\u001b[43m,\u001b[49m\u001b[43m \u001b[49m\u001b[43mkwds\u001b[49m\u001b[43m,\u001b[49m\u001b[43m \u001b[49m\u001b[38;5;28;43mself\u001b[39;49m\u001b[38;5;241;43m.\u001b[39;49m\u001b[43m_variable_creation_config\u001b[49m\n\u001b[1;32m    878\u001b[0m \u001b[43m\u001b[49m\u001b[43m)\u001b[49m\n\u001b[1;32m    879\u001b[0m \u001b[38;5;28;01mif\u001b[39;00m \u001b[38;5;28mself\u001b[39m\u001b[38;5;241m.\u001b[39m_created_variables:\n\u001b[1;32m    880\u001b[0m   \u001b[38;5;28;01mraise\u001b[39;00m \u001b[38;5;167;01mValueError\u001b[39;00m(\u001b[38;5;124m\"\u001b[39m\u001b[38;5;124mCreating variables on a non-first call to a function\u001b[39m\u001b[38;5;124m\"\u001b[39m\n\u001b[1;32m    881\u001b[0m                    \u001b[38;5;124m\"\u001b[39m\u001b[38;5;124m decorated with tf.function.\u001b[39m\u001b[38;5;124m\"\u001b[39m)\n",
      "File \u001b[0;32m/usr/local/lib/python3.11/site-packages/tensorflow/python/eager/polymorphic_function/tracing_compilation.py:139\u001b[0m, in \u001b[0;36mcall_function\u001b[0;34m(args, kwargs, tracing_options)\u001b[0m\n\u001b[1;32m    137\u001b[0m bound_args \u001b[38;5;241m=\u001b[39m function\u001b[38;5;241m.\u001b[39mfunction_type\u001b[38;5;241m.\u001b[39mbind(\u001b[38;5;241m*\u001b[39margs, \u001b[38;5;241m*\u001b[39m\u001b[38;5;241m*\u001b[39mkwargs)\n\u001b[1;32m    138\u001b[0m flat_inputs \u001b[38;5;241m=\u001b[39m function\u001b[38;5;241m.\u001b[39mfunction_type\u001b[38;5;241m.\u001b[39munpack_inputs(bound_args)\n\u001b[0;32m--> 139\u001b[0m \u001b[38;5;28;01mreturn\u001b[39;00m \u001b[43mfunction\u001b[49m\u001b[38;5;241;43m.\u001b[39;49m\u001b[43m_call_flat\u001b[49m\u001b[43m(\u001b[49m\u001b[43m  \u001b[49m\u001b[38;5;66;43;03m# pylint: disable=protected-access\u001b[39;49;00m\n\u001b[1;32m    140\u001b[0m \u001b[43m    \u001b[49m\u001b[43mflat_inputs\u001b[49m\u001b[43m,\u001b[49m\u001b[43m \u001b[49m\u001b[43mcaptured_inputs\u001b[49m\u001b[38;5;241;43m=\u001b[39;49m\u001b[43mfunction\u001b[49m\u001b[38;5;241;43m.\u001b[39;49m\u001b[43mcaptured_inputs\u001b[49m\n\u001b[1;32m    141\u001b[0m \u001b[43m\u001b[49m\u001b[43m)\u001b[49m\n",
      "File \u001b[0;32m/usr/local/lib/python3.11/site-packages/tensorflow/python/eager/polymorphic_function/concrete_function.py:1264\u001b[0m, in \u001b[0;36mConcreteFunction._call_flat\u001b[0;34m(self, tensor_inputs, captured_inputs)\u001b[0m\n\u001b[1;32m   1260\u001b[0m possible_gradient_type \u001b[38;5;241m=\u001b[39m gradients_util\u001b[38;5;241m.\u001b[39mPossibleTapeGradientTypes(args)\n\u001b[1;32m   1261\u001b[0m \u001b[38;5;28;01mif\u001b[39;00m (possible_gradient_type \u001b[38;5;241m==\u001b[39m gradients_util\u001b[38;5;241m.\u001b[39mPOSSIBLE_GRADIENT_TYPES_NONE\n\u001b[1;32m   1262\u001b[0m     \u001b[38;5;129;01mand\u001b[39;00m executing_eagerly):\n\u001b[1;32m   1263\u001b[0m   \u001b[38;5;66;03m# No tape is watching; skip to running the function.\u001b[39;00m\n\u001b[0;32m-> 1264\u001b[0m   \u001b[38;5;28;01mreturn\u001b[39;00m \u001b[38;5;28;43mself\u001b[39;49m\u001b[38;5;241;43m.\u001b[39;49m\u001b[43m_inference_function\u001b[49m\u001b[38;5;241;43m.\u001b[39;49m\u001b[43mflat_call\u001b[49m\u001b[43m(\u001b[49m\u001b[43margs\u001b[49m\u001b[43m)\u001b[49m\n\u001b[1;32m   1265\u001b[0m forward_backward \u001b[38;5;241m=\u001b[39m \u001b[38;5;28mself\u001b[39m\u001b[38;5;241m.\u001b[39m_select_forward_and_backward_functions(\n\u001b[1;32m   1266\u001b[0m     args,\n\u001b[1;32m   1267\u001b[0m     possible_gradient_type,\n\u001b[1;32m   1268\u001b[0m     executing_eagerly)\n\u001b[1;32m   1269\u001b[0m forward_function, args_with_tangents \u001b[38;5;241m=\u001b[39m forward_backward\u001b[38;5;241m.\u001b[39mforward()\n",
      "File \u001b[0;32m/usr/local/lib/python3.11/site-packages/tensorflow/python/eager/polymorphic_function/atomic_function.py:217\u001b[0m, in \u001b[0;36mAtomicFunction.flat_call\u001b[0;34m(self, args)\u001b[0m\n\u001b[1;32m    215\u001b[0m \u001b[38;5;28;01mdef\u001b[39;00m \u001b[38;5;21mflat_call\u001b[39m(\u001b[38;5;28mself\u001b[39m, args: Sequence[core\u001b[38;5;241m.\u001b[39mTensor]) \u001b[38;5;241m-\u001b[39m\u001b[38;5;241m>\u001b[39m Any:\n\u001b[1;32m    216\u001b[0m \u001b[38;5;250m  \u001b[39m\u001b[38;5;124;03m\"\"\"Calls with tensor inputs and returns the structured output.\"\"\"\u001b[39;00m\n\u001b[0;32m--> 217\u001b[0m   flat_outputs \u001b[38;5;241m=\u001b[39m \u001b[38;5;28;43mself\u001b[39;49m\u001b[43m(\u001b[49m\u001b[38;5;241;43m*\u001b[39;49m\u001b[43margs\u001b[49m\u001b[43m)\u001b[49m\n\u001b[1;32m    218\u001b[0m   \u001b[38;5;28;01mreturn\u001b[39;00m \u001b[38;5;28mself\u001b[39m\u001b[38;5;241m.\u001b[39mfunction_type\u001b[38;5;241m.\u001b[39mpack_output(flat_outputs)\n",
      "File \u001b[0;32m/usr/local/lib/python3.11/site-packages/tensorflow/python/eager/polymorphic_function/atomic_function.py:252\u001b[0m, in \u001b[0;36mAtomicFunction.__call__\u001b[0;34m(self, *args)\u001b[0m\n\u001b[1;32m    250\u001b[0m \u001b[38;5;28;01mwith\u001b[39;00m record\u001b[38;5;241m.\u001b[39mstop_recording():\n\u001b[1;32m    251\u001b[0m   \u001b[38;5;28;01mif\u001b[39;00m \u001b[38;5;28mself\u001b[39m\u001b[38;5;241m.\u001b[39m_bound_context\u001b[38;5;241m.\u001b[39mexecuting_eagerly():\n\u001b[0;32m--> 252\u001b[0m     outputs \u001b[38;5;241m=\u001b[39m \u001b[38;5;28;43mself\u001b[39;49m\u001b[38;5;241;43m.\u001b[39;49m\u001b[43m_bound_context\u001b[49m\u001b[38;5;241;43m.\u001b[39;49m\u001b[43mcall_function\u001b[49m\u001b[43m(\u001b[49m\n\u001b[1;32m    253\u001b[0m \u001b[43m        \u001b[49m\u001b[38;5;28;43mself\u001b[39;49m\u001b[38;5;241;43m.\u001b[39;49m\u001b[43mname\u001b[49m\u001b[43m,\u001b[49m\n\u001b[1;32m    254\u001b[0m \u001b[43m        \u001b[49m\u001b[38;5;28;43mlist\u001b[39;49m\u001b[43m(\u001b[49m\u001b[43margs\u001b[49m\u001b[43m)\u001b[49m\u001b[43m,\u001b[49m\n\u001b[1;32m    255\u001b[0m \u001b[43m        \u001b[49m\u001b[38;5;28;43mlen\u001b[39;49m\u001b[43m(\u001b[49m\u001b[38;5;28;43mself\u001b[39;49m\u001b[38;5;241;43m.\u001b[39;49m\u001b[43mfunction_type\u001b[49m\u001b[38;5;241;43m.\u001b[39;49m\u001b[43mflat_outputs\u001b[49m\u001b[43m)\u001b[49m\u001b[43m,\u001b[49m\n\u001b[1;32m    256\u001b[0m \u001b[43m    \u001b[49m\u001b[43m)\u001b[49m\n\u001b[1;32m    257\u001b[0m   \u001b[38;5;28;01melse\u001b[39;00m:\n\u001b[1;32m    258\u001b[0m     outputs \u001b[38;5;241m=\u001b[39m make_call_op_in_graph(\n\u001b[1;32m    259\u001b[0m         \u001b[38;5;28mself\u001b[39m,\n\u001b[1;32m    260\u001b[0m         \u001b[38;5;28mlist\u001b[39m(args),\n\u001b[1;32m    261\u001b[0m         \u001b[38;5;28mself\u001b[39m\u001b[38;5;241m.\u001b[39m_bound_context\u001b[38;5;241m.\u001b[39mfunction_call_options\u001b[38;5;241m.\u001b[39mas_attrs(),\n\u001b[1;32m    262\u001b[0m     )\n",
      "File \u001b[0;32m/usr/local/lib/python3.11/site-packages/tensorflow/python/eager/context.py:1479\u001b[0m, in \u001b[0;36mContext.call_function\u001b[0;34m(self, name, tensor_inputs, num_outputs)\u001b[0m\n\u001b[1;32m   1477\u001b[0m cancellation_context \u001b[38;5;241m=\u001b[39m cancellation\u001b[38;5;241m.\u001b[39mcontext()\n\u001b[1;32m   1478\u001b[0m \u001b[38;5;28;01mif\u001b[39;00m cancellation_context \u001b[38;5;129;01mis\u001b[39;00m \u001b[38;5;28;01mNone\u001b[39;00m:\n\u001b[0;32m-> 1479\u001b[0m   outputs \u001b[38;5;241m=\u001b[39m \u001b[43mexecute\u001b[49m\u001b[38;5;241;43m.\u001b[39;49m\u001b[43mexecute\u001b[49m\u001b[43m(\u001b[49m\n\u001b[1;32m   1480\u001b[0m \u001b[43m      \u001b[49m\u001b[43mname\u001b[49m\u001b[38;5;241;43m.\u001b[39;49m\u001b[43mdecode\u001b[49m\u001b[43m(\u001b[49m\u001b[38;5;124;43m\"\u001b[39;49m\u001b[38;5;124;43mutf-8\u001b[39;49m\u001b[38;5;124;43m\"\u001b[39;49m\u001b[43m)\u001b[49m\u001b[43m,\u001b[49m\n\u001b[1;32m   1481\u001b[0m \u001b[43m      \u001b[49m\u001b[43mnum_outputs\u001b[49m\u001b[38;5;241;43m=\u001b[39;49m\u001b[43mnum_outputs\u001b[49m\u001b[43m,\u001b[49m\n\u001b[1;32m   1482\u001b[0m \u001b[43m      \u001b[49m\u001b[43minputs\u001b[49m\u001b[38;5;241;43m=\u001b[39;49m\u001b[43mtensor_inputs\u001b[49m\u001b[43m,\u001b[49m\n\u001b[1;32m   1483\u001b[0m \u001b[43m      \u001b[49m\u001b[43mattrs\u001b[49m\u001b[38;5;241;43m=\u001b[39;49m\u001b[43mattrs\u001b[49m\u001b[43m,\u001b[49m\n\u001b[1;32m   1484\u001b[0m \u001b[43m      \u001b[49m\u001b[43mctx\u001b[49m\u001b[38;5;241;43m=\u001b[39;49m\u001b[38;5;28;43mself\u001b[39;49m\u001b[43m,\u001b[49m\n\u001b[1;32m   1485\u001b[0m \u001b[43m  \u001b[49m\u001b[43m)\u001b[49m\n\u001b[1;32m   1486\u001b[0m \u001b[38;5;28;01melse\u001b[39;00m:\n\u001b[1;32m   1487\u001b[0m   outputs \u001b[38;5;241m=\u001b[39m execute\u001b[38;5;241m.\u001b[39mexecute_with_cancellation(\n\u001b[1;32m   1488\u001b[0m       name\u001b[38;5;241m.\u001b[39mdecode(\u001b[38;5;124m\"\u001b[39m\u001b[38;5;124mutf-8\u001b[39m\u001b[38;5;124m\"\u001b[39m),\n\u001b[1;32m   1489\u001b[0m       num_outputs\u001b[38;5;241m=\u001b[39mnum_outputs,\n\u001b[0;32m   (...)\u001b[0m\n\u001b[1;32m   1493\u001b[0m       cancellation_manager\u001b[38;5;241m=\u001b[39mcancellation_context,\n\u001b[1;32m   1494\u001b[0m   )\n",
      "File \u001b[0;32m/usr/local/lib/python3.11/site-packages/tensorflow/python/eager/execute.py:60\u001b[0m, in \u001b[0;36mquick_execute\u001b[0;34m(op_name, num_outputs, inputs, attrs, ctx, name)\u001b[0m\n\u001b[1;32m     53\u001b[0m   \u001b[38;5;66;03m# Convert any objects of type core_types.Tensor to Tensor.\u001b[39;00m\n\u001b[1;32m     54\u001b[0m   inputs \u001b[38;5;241m=\u001b[39m [\n\u001b[1;32m     55\u001b[0m       tensor_conversion_registry\u001b[38;5;241m.\u001b[39mconvert(t)\n\u001b[1;32m     56\u001b[0m       \u001b[38;5;28;01mif\u001b[39;00m \u001b[38;5;28misinstance\u001b[39m(t, core_types\u001b[38;5;241m.\u001b[39mTensor)\n\u001b[1;32m     57\u001b[0m       \u001b[38;5;28;01melse\u001b[39;00m t\n\u001b[1;32m     58\u001b[0m       \u001b[38;5;28;01mfor\u001b[39;00m t \u001b[38;5;129;01min\u001b[39;00m inputs\n\u001b[1;32m     59\u001b[0m   ]\n\u001b[0;32m---> 60\u001b[0m   tensors \u001b[38;5;241m=\u001b[39m \u001b[43mpywrap_tfe\u001b[49m\u001b[38;5;241;43m.\u001b[39;49m\u001b[43mTFE_Py_Execute\u001b[49m\u001b[43m(\u001b[49m\u001b[43mctx\u001b[49m\u001b[38;5;241;43m.\u001b[39;49m\u001b[43m_handle\u001b[49m\u001b[43m,\u001b[49m\u001b[43m \u001b[49m\u001b[43mdevice_name\u001b[49m\u001b[43m,\u001b[49m\u001b[43m \u001b[49m\u001b[43mop_name\u001b[49m\u001b[43m,\u001b[49m\n\u001b[1;32m     61\u001b[0m \u001b[43m                                      \u001b[49m\u001b[43minputs\u001b[49m\u001b[43m,\u001b[49m\u001b[43m \u001b[49m\u001b[43mattrs\u001b[49m\u001b[43m,\u001b[49m\u001b[43m \u001b[49m\u001b[43mnum_outputs\u001b[49m\u001b[43m)\u001b[49m\n\u001b[1;32m     62\u001b[0m \u001b[38;5;28;01mexcept\u001b[39;00m core\u001b[38;5;241m.\u001b[39m_NotOkStatusException \u001b[38;5;28;01mas\u001b[39;00m e:\n\u001b[1;32m     63\u001b[0m   \u001b[38;5;28;01mif\u001b[39;00m name \u001b[38;5;129;01mis\u001b[39;00m \u001b[38;5;129;01mnot\u001b[39;00m \u001b[38;5;28;01mNone\u001b[39;00m:\n",
      "\u001b[0;31mKeyboardInterrupt\u001b[0m: "
     ]
    }
   ],
   "source": [
    "preds = []\n",
    "for i in tqdm(range(436)):\n",
    "    row  = grid[i*1024:(i+1)*1024]\n",
    "    out = deepONET.predict([first_broadcasted, row], batch_size=16, verbose = True)\n",
    "    preds.append(out)\n",
    "\n",
    "preds = np.array(preds)\n",
    "print(preds.shape)\n",
    "\n",
    "preds = preds.reshape(436, 1024, 2)\n",
    "print(preds)"
   ]
  },
  {
   "cell_type": "code",
   "execution_count": 14,
   "metadata": {},
   "outputs": [],
   "source": [
    "def visualiseFits(fits, validationData = True):\n",
    "    fig, axs = plt.subplots(2, 2, figsize = (40, 20))\n",
    "\n",
    "    axs[0][0].plot(fits.history['loss'], label = \"Conventional NN Train EPE\")\n",
    "    axs[0][0].set_xlabel(\"Epochs\")\n",
    "    axs[0][0].set_ylabel(\"EPE (log Scaled)\")\n",
    "    axs[0][0].set_yscale('log')\n",
    "    axs[0][0].grid(True)\n",
    "\n",
    "    axs[1][0].plot(fits.history['loss'], label = \"Conventional NN Train EPE\")\n",
    "    axs[1][0].set_xlabel(\"Epochs\")\n",
    "    axs[1][0].set_ylabel(\"EPE\")\n",
    "    axs[1][0].grid(True)\n",
    "\n",
    "    axs[0][1].plot(fits.history['mse'], label = \"Conventional NN Train MSE\")\n",
    "    axs[0][1].set_xlabel(\"Epochs\")\n",
    "    axs[0][1].set_ylabel(\"MSE\")\n",
    "    axs[0][1].grid(True)\n",
    "\n",
    "    axs[1][1].plot(fits.history['mse'], label = \"Conventional NN Train MSE\")\n",
    "    axs[1][1].set_xlabel(\"Epochs\")\n",
    "    axs[1][1].set_ylabel(\"MSE (log scaled)\")\n",
    "    axs[1][1].set_yscale('log')\n",
    "    axs[1][1].grid(True)\n",
    "    \n",
    "    if validationData:\n",
    "        axs[0][0].plot(fits.history['val_loss'], label = \"Conventional NN Train EPE validation\")\n",
    "        axs[1][0].plot(fits.history['val_loss'], label = \"Conventional NN Train EPE validation\")\n",
    "        axs[0][1].plot(fits.history['val_mse'], label = \"Conventional NN Train MSE validation\")\n",
    "        axs[1][1].plot(fits.history['val_mse'], label = \"Conventional NN Train MAE validation\")\n",
    "\n",
    "    axs[0][0].legend()\n",
    "    axs[1][0].legend()\n",
    "    axs[0][1].legend()\n",
    "    axs[1][1].legend()\n",
    "\n",
    "    plt.show()"
   ]
  },
  {
   "cell_type": "code",
   "execution_count": 15,
   "metadata": {},
   "outputs": [
    {
     "name": "stderr",
     "output_type": "stream",
     "text": [
      "2024-02-24 16:58:09.238298: I tensorflow/tsl/profiler/lib/profiler_session.cc:104] Profiler session initializing.\n",
      "2024-02-24 16:58:09.238322: I tensorflow/tsl/profiler/lib/profiler_session.cc:119] Profiler session started.\n",
      "2024-02-24 16:58:09.238463: I tensorflow/tsl/profiler/lib/profiler_session.cc:131] Profiler session tear down.\n"
     ]
    }
   ],
   "source": [
    "log_dir = os.path.join(\".\", \"assets\", \"logs\", \"fits\", f\"OpticalFlowOperatorNET_{datetime.datetime.now().strftime('%Y%m%d-%H%M%S')}\")\n",
    "tensorboard_callback = tf.keras.callbacks.TensorBoard(log_dir=log_dir, histogram_freq=1, write_images=True, profile_batch= '10, 110')\n",
    "\n",
    "modelDir = os.path.join(\".\", \"assets\", \"ml\", \"models\", \"OpticalFlowOperatorNET\")\n",
    "if not os.path.exists(modelDir):\n",
    "    os.makedirs(modelDir)\n",
    "\n",
    "modelPath = os.path.join(modelDir, \"OpticalFlowOperatorNET.h5\")\n",
    "model_checkpoint_callback = tf.keras.callbacks.ModelCheckpoint(filepath=modelPath, monitor='val_loss', save_best_only=True, save_weights_only=True)\n",
    "\n",
    "learning_rate_callback = tf.keras.callbacks.ReduceLROnPlateau(factor=0.85, patience=50, min_lr=1e-6)\n",
    "_callbacks = [tensorboard_callback, model_checkpoint_callback, learning_rate_callback]\n",
    "\n",
    "callbacks = tf.keras.callbacks.CallbackList(_callbacks, add_history=False)\n",
    "\n",
    "fileWriter = tf.summary.create_file_writer(os.path.join(log_dir, \"metrics\"))\n",
    "fileWriter.set_as_default()"
   ]
  },
  {
   "cell_type": "code",
   "execution_count": 20,
   "metadata": {},
   "outputs": [
    {
     "name": "stdout",
     "output_type": "stream",
     "text": [
      "Model: \"optical_flow_operator_network_1\"\n",
      "_________________________________________________________________\n",
      " Layer (type)                Output Shape              Param #   \n",
      "=================================================================\n",
      " poife__branch_net_1 (POIFE  multiple                  12585418  \n",
      " _BranchNET)                                                     \n",
      "                                                                 \n",
      " poife__trunk_net_1 (POIFE_  multiple                  1545050   \n",
      " TrunkNET)                                                       \n",
      "                                                                 \n",
      " bias_layer_2 (BiasLayer)    multiple                  1         \n",
      "                                                                 \n",
      " bias_layer_3 (BiasLayer)    multiple                  1         \n",
      "                                                                 \n",
      "=================================================================\n",
      "Total params: 14130470 (53.90 MB)\n",
      "Trainable params: 14125542 (53.88 MB)\n",
      "Non-trainable params: 4928 (19.25 KB)\n",
      "_________________________________________________________________\n"
     ]
    }
   ],
   "source": [
    "onet = OpticalFlowOperatorNetwork()\n",
    "\n",
    "from assets.ml.src.CustomLosses import epe_loss\n",
    "\n",
    "optimizer = tf.keras.optimizers.Adam(learning_rate=1e-3, beta_1=0.9, beta_2=0.999)\n",
    "onet.compile(optimizer=optimizer, loss=epe_loss(), metrics = ['mse'])\n",
    "onet.build(input_shape=[(None, 2, 436, 1024, 1), (None, 2)])\n",
    "onet.summary()"
   ]
  },
  {
   "cell_type": "code",
   "execution_count": 24,
   "metadata": {},
   "outputs": [
    {
     "name": "stdout",
     "output_type": "stream",
     "text": [
      "X shape: [(1024, 2, 436, 1024, 1), (1024, 2)]\n",
      "y shape: (1024, 2)\n",
      "X_test shape: [(1024, 2, 436, 1024, 1), (1024, 2)]\n",
      "y_test shape: (1024, 2)\n"
     ]
    }
   ],
   "source": [
    "X = [first_broadcasted, grid[0:first_broadcasted.shape[0]]]\n",
    "y = flow.reshape(-1, 2)[0:first_broadcasted.shape[0]]\n",
    "\n",
    "X_test = [first_broadcasted, grid[first_broadcasted.shape[0]:2*first_broadcasted.shape[0]]]\n",
    "y_test = flow.reshape(-1, 2)[first_broadcasted.shape[0]:2*first_broadcasted.shape[0]]\n",
    "\n",
    "print(f\"X shape: [{X[0].shape}, {X[1].shape}]\")\n",
    "print(f\"y shape: {y.shape}\")\n",
    "\n",
    "print(f\"X_test shape: [{X_test[0].shape}, {X_test[1].shape}]\")\n",
    "print(f\"y_test shape: {y_test.shape}\")"
   ]
  },
  {
   "cell_type": "code",
   "execution_count": 22,
   "metadata": {},
   "outputs": [
    {
     "name": "stdout",
     "output_type": "stream",
     "text": [
      "Epoch 1/25\n"
     ]
    },
    {
     "name": "stdout",
     "output_type": "stream",
     "text": [
      "WARNING:tensorflow:Gradients do not exist for variables ['bias_layer_2/Variable:0', 'bias_layer_3/Variable:0'] when minimizing the loss. If you're using `model.compile()`, did you forget to provide a `loss` argument?\n",
      "WARNING:tensorflow:Gradients do not exist for variables ['bias_layer_2/Variable:0', 'bias_layer_3/Variable:0'] when minimizing the loss. If you're using `model.compile()`, did you forget to provide a `loss` argument?\n",
      "WARNING:tensorflow:Gradients do not exist for variables ['bias_layer_2/Variable:0', 'bias_layer_3/Variable:0'] when minimizing the loss. If you're using `model.compile()`, did you forget to provide a `loss` argument?\n",
      "WARNING:tensorflow:Gradients do not exist for variables ['bias_layer_2/Variable:0', 'bias_layer_3/Variable:0'] when minimizing the loss. If you're using `model.compile()`, did you forget to provide a `loss` argument?\n",
      "   9/1024 [..............................] - ETA: 14:06 - loss: 3.0153 - mse: 11.8769WARNING:tensorflow:Trace already enabled\n",
      " 109/1024 [==>...........................] - ETA: 14:22 - loss: 5.2439 - mse: 191.0564"
     ]
    },
    {
     "name": "stderr",
     "output_type": "stream",
     "text": [
      "2024-02-24 18:18:15.696152: I tensorflow/tsl/profiler/lib/profiler_session.cc:70] Profiler session collecting data.\n",
      "2024-02-24 18:18:38.693288: I tensorflow/tsl/profiler/lib/profiler_session.cc:131] Profiler session tear down.\n",
      "2024-02-24 18:18:38.695442: I tensorflow/tsl/profiler/rpc/client/save_profile.cc:144] Collecting XSpace to repository: ./assets/logs/fits/OpticalFlowOperatorNET_20240224-165809/plugins/profile/2024_02_24_18_18_38/bmbp.modem.xplane.pb\n"
     ]
    },
    {
     "name": "stdout",
     "output_type": "stream",
     "text": [
      "1024/1024 [==============================] - ETA: 0s - loss: 0.5911 - mse: 20.3379WARNING:tensorflow:Can save best model only with val_loss available, skipping.\n",
      "WARNING:tensorflow:Learning rate reduction is conditioned on metric `val_loss` which is not available. Available metrics are: loss,mse,lr\n",
      "1024/1024 [==============================] - 1240s 1s/step - loss: 0.5911 - mse: 20.3379 - lr: 0.0010\n",
      "Epoch 2/25\n",
      "1024/1024 [==============================] - ETA: 0s - loss: 0.0556 - mse: 0.0027WARNING:tensorflow:Can save best model only with val_loss available, skipping.\n",
      "WARNING:tensorflow:Learning rate reduction is conditioned on metric `val_loss` which is not available. Available metrics are: loss,mse,lr\n",
      "1024/1024 [==============================] - 1647s 2s/step - loss: 0.0556 - mse: 0.0027 - lr: 0.0010\n",
      "Epoch 3/25\n",
      "1024/1024 [==============================] - ETA: 0s - loss: 0.0530 - mse: 0.0024WARNING:tensorflow:Can save best model only with val_loss available, skipping.\n",
      "WARNING:tensorflow:Learning rate reduction is conditioned on metric `val_loss` which is not available. Available metrics are: loss,mse,lr\n",
      "1024/1024 [==============================] - 1284s 1s/step - loss: 0.0530 - mse: 0.0024 - lr: 0.0010\n",
      "Epoch 4/25\n",
      "1024/1024 [==============================] - ETA: 0s - loss: 0.0691 - mse: 0.0039WARNING:tensorflow:Can save best model only with val_loss available, skipping.\n",
      "WARNING:tensorflow:Learning rate reduction is conditioned on metric `val_loss` which is not available. Available metrics are: loss,mse,lr\n",
      "1024/1024 [==============================] - 864s 844ms/step - loss: 0.0691 - mse: 0.0039 - lr: 0.0010\n",
      "Epoch 5/25\n",
      "1024/1024 [==============================] - ETA: 0s - loss: 0.0613 - mse: 0.0032WARNING:tensorflow:Can save best model only with val_loss available, skipping.\n",
      "WARNING:tensorflow:Learning rate reduction is conditioned on metric `val_loss` which is not available. Available metrics are: loss,mse,lr\n",
      "1024/1024 [==============================] - 895s 874ms/step - loss: 0.0613 - mse: 0.0032 - lr: 0.0010\n",
      "Epoch 6/25\n",
      "1024/1024 [==============================] - ETA: 0s - loss: 0.0656 - mse: 0.0034WARNING:tensorflow:Can save best model only with val_loss available, skipping.\n",
      "WARNING:tensorflow:Learning rate reduction is conditioned on metric `val_loss` which is not available. Available metrics are: loss,mse,lr\n",
      "1024/1024 [==============================] - 910s 888ms/step - loss: 0.0656 - mse: 0.0034 - lr: 0.0010\n",
      "Epoch 7/25\n",
      "1024/1024 [==============================] - ETA: 0s - loss: 0.0634 - mse: 0.0031WARNING:tensorflow:Can save best model only with val_loss available, skipping.\n",
      "WARNING:tensorflow:Learning rate reduction is conditioned on metric `val_loss` which is not available. Available metrics are: loss,mse,lr\n",
      "1024/1024 [==============================] - 841s 821ms/step - loss: 0.0634 - mse: 0.0031 - lr: 0.0010\n",
      "Epoch 8/25\n",
      "1024/1024 [==============================] - ETA: 0s - loss: 3.0491 - mse: 206.9037WARNING:tensorflow:Can save best model only with val_loss available, skipping.\n",
      "WARNING:tensorflow:Learning rate reduction is conditioned on metric `val_loss` which is not available. Available metrics are: loss,mse,lr\n",
      "1024/1024 [==============================] - 836s 816ms/step - loss: 3.0491 - mse: 206.9037 - lr: 0.0010\n",
      "Epoch 9/25\n",
      "1024/1024 [==============================] - ETA: 0s - loss: 1.5207 - mse: 8.3617WARNING:tensorflow:Can save best model only with val_loss available, skipping.\n",
      "WARNING:tensorflow:Learning rate reduction is conditioned on metric `val_loss` which is not available. Available metrics are: loss,mse,lr\n",
      "1024/1024 [==============================] - 821s 802ms/step - loss: 1.5207 - mse: 8.3617 - lr: 0.0010\n",
      "Epoch 10/25\n",
      "1024/1024 [==============================] - ETA: 0s - loss: 0.9684 - mse: 2.0283WARNING:tensorflow:Can save best model only with val_loss available, skipping.\n",
      "WARNING:tensorflow:Learning rate reduction is conditioned on metric `val_loss` which is not available. Available metrics are: loss,mse,lr\n",
      "1024/1024 [==============================] - 829s 810ms/step - loss: 0.9684 - mse: 2.0283 - lr: 0.0010\n",
      "Epoch 11/25\n",
      " 395/1024 [==========>...................] - ETA: 8:46 - loss: 0.5405 - mse: 0.4136"
     ]
    },
    {
     "ename": "KeyboardInterrupt",
     "evalue": "",
     "output_type": "error",
     "traceback": [
      "\u001b[0;31m---------------------------------------------------------------------------\u001b[0m",
      "\u001b[0;31mKeyboardInterrupt\u001b[0m                         Traceback (most recent call last)",
      "Cell \u001b[0;32mIn[22], line 1\u001b[0m\n\u001b[0;32m----> 1\u001b[0m hist \u001b[38;5;241m=\u001b[39m \u001b[43monet\u001b[49m\u001b[38;5;241;43m.\u001b[39;49m\u001b[43mfit\u001b[49m\u001b[43m(\u001b[49m\u001b[43mx\u001b[49m\u001b[38;5;241;43m=\u001b[39;49m\u001b[43mX\u001b[49m\u001b[43m,\u001b[49m\u001b[43m \u001b[49m\u001b[43my\u001b[49m\u001b[38;5;241;43m=\u001b[39;49m\u001b[43my\u001b[49m\u001b[43m,\u001b[49m\u001b[43m \u001b[49m\u001b[43mepochs\u001b[49m\u001b[43m \u001b[49m\u001b[38;5;241;43m=\u001b[39;49m\u001b[43m \u001b[49m\u001b[38;5;241;43m25\u001b[39;49m\u001b[43m,\u001b[49m\u001b[43m \u001b[49m\u001b[43mverbose\u001b[49m\u001b[43m \u001b[49m\u001b[38;5;241;43m=\u001b[39;49m\u001b[43m \u001b[49m\u001b[38;5;28;43;01mTrue\u001b[39;49;00m\u001b[43m,\u001b[49m\u001b[43m \u001b[49m\u001b[43mbatch_size\u001b[49m\u001b[38;5;241;43m=\u001b[39;49m\u001b[38;5;241;43m1\u001b[39;49m\u001b[43m,\u001b[49m\u001b[43m \u001b[49m\u001b[43mcallbacks\u001b[49m\u001b[38;5;241;43m=\u001b[39;49m\u001b[43m_callbacks\u001b[49m\u001b[43m)\u001b[49m \u001b[38;5;66;03m# validation_data=(test_X, test_y), callbacks=_callbacks)\u001b[39;00m\n",
      "File \u001b[0;32m/usr/local/lib/python3.11/site-packages/keras/src/utils/traceback_utils.py:65\u001b[0m, in \u001b[0;36mfilter_traceback.<locals>.error_handler\u001b[0;34m(*args, **kwargs)\u001b[0m\n\u001b[1;32m     63\u001b[0m filtered_tb \u001b[38;5;241m=\u001b[39m \u001b[38;5;28;01mNone\u001b[39;00m\n\u001b[1;32m     64\u001b[0m \u001b[38;5;28;01mtry\u001b[39;00m:\n\u001b[0;32m---> 65\u001b[0m     \u001b[38;5;28;01mreturn\u001b[39;00m \u001b[43mfn\u001b[49m\u001b[43m(\u001b[49m\u001b[38;5;241;43m*\u001b[39;49m\u001b[43margs\u001b[49m\u001b[43m,\u001b[49m\u001b[43m \u001b[49m\u001b[38;5;241;43m*\u001b[39;49m\u001b[38;5;241;43m*\u001b[39;49m\u001b[43mkwargs\u001b[49m\u001b[43m)\u001b[49m\n\u001b[1;32m     66\u001b[0m \u001b[38;5;28;01mexcept\u001b[39;00m \u001b[38;5;167;01mException\u001b[39;00m \u001b[38;5;28;01mas\u001b[39;00m e:\n\u001b[1;32m     67\u001b[0m     filtered_tb \u001b[38;5;241m=\u001b[39m _process_traceback_frames(e\u001b[38;5;241m.\u001b[39m__traceback__)\n",
      "File \u001b[0;32m/usr/local/lib/python3.11/site-packages/keras/src/engine/training.py:1783\u001b[0m, in \u001b[0;36mModel.fit\u001b[0;34m(self, x, y, batch_size, epochs, verbose, callbacks, validation_split, validation_data, shuffle, class_weight, sample_weight, initial_epoch, steps_per_epoch, validation_steps, validation_batch_size, validation_freq, max_queue_size, workers, use_multiprocessing)\u001b[0m\n\u001b[1;32m   1775\u001b[0m \u001b[38;5;28;01mwith\u001b[39;00m tf\u001b[38;5;241m.\u001b[39mprofiler\u001b[38;5;241m.\u001b[39mexperimental\u001b[38;5;241m.\u001b[39mTrace(\n\u001b[1;32m   1776\u001b[0m     \u001b[38;5;124m\"\u001b[39m\u001b[38;5;124mtrain\u001b[39m\u001b[38;5;124m\"\u001b[39m,\n\u001b[1;32m   1777\u001b[0m     epoch_num\u001b[38;5;241m=\u001b[39mepoch,\n\u001b[0;32m   (...)\u001b[0m\n\u001b[1;32m   1780\u001b[0m     _r\u001b[38;5;241m=\u001b[39m\u001b[38;5;241m1\u001b[39m,\n\u001b[1;32m   1781\u001b[0m ):\n\u001b[1;32m   1782\u001b[0m     callbacks\u001b[38;5;241m.\u001b[39mon_train_batch_begin(step)\n\u001b[0;32m-> 1783\u001b[0m     tmp_logs \u001b[38;5;241m=\u001b[39m \u001b[38;5;28;43mself\u001b[39;49m\u001b[38;5;241;43m.\u001b[39;49m\u001b[43mtrain_function\u001b[49m\u001b[43m(\u001b[49m\u001b[43miterator\u001b[49m\u001b[43m)\u001b[49m\n\u001b[1;32m   1784\u001b[0m     \u001b[38;5;28;01mif\u001b[39;00m data_handler\u001b[38;5;241m.\u001b[39mshould_sync:\n\u001b[1;32m   1785\u001b[0m         context\u001b[38;5;241m.\u001b[39masync_wait()\n",
      "File \u001b[0;32m/usr/local/lib/python3.11/site-packages/tensorflow/python/util/traceback_utils.py:150\u001b[0m, in \u001b[0;36mfilter_traceback.<locals>.error_handler\u001b[0;34m(*args, **kwargs)\u001b[0m\n\u001b[1;32m    148\u001b[0m filtered_tb \u001b[38;5;241m=\u001b[39m \u001b[38;5;28;01mNone\u001b[39;00m\n\u001b[1;32m    149\u001b[0m \u001b[38;5;28;01mtry\u001b[39;00m:\n\u001b[0;32m--> 150\u001b[0m   \u001b[38;5;28;01mreturn\u001b[39;00m \u001b[43mfn\u001b[49m\u001b[43m(\u001b[49m\u001b[38;5;241;43m*\u001b[39;49m\u001b[43margs\u001b[49m\u001b[43m,\u001b[49m\u001b[43m \u001b[49m\u001b[38;5;241;43m*\u001b[39;49m\u001b[38;5;241;43m*\u001b[39;49m\u001b[43mkwargs\u001b[49m\u001b[43m)\u001b[49m\n\u001b[1;32m    151\u001b[0m \u001b[38;5;28;01mexcept\u001b[39;00m \u001b[38;5;167;01mException\u001b[39;00m \u001b[38;5;28;01mas\u001b[39;00m e:\n\u001b[1;32m    152\u001b[0m   filtered_tb \u001b[38;5;241m=\u001b[39m _process_traceback_frames(e\u001b[38;5;241m.\u001b[39m__traceback__)\n",
      "File \u001b[0;32m/usr/local/lib/python3.11/site-packages/tensorflow/python/eager/polymorphic_function/polymorphic_function.py:831\u001b[0m, in \u001b[0;36mFunction.__call__\u001b[0;34m(self, *args, **kwds)\u001b[0m\n\u001b[1;32m    828\u001b[0m compiler \u001b[38;5;241m=\u001b[39m \u001b[38;5;124m\"\u001b[39m\u001b[38;5;124mxla\u001b[39m\u001b[38;5;124m\"\u001b[39m \u001b[38;5;28;01mif\u001b[39;00m \u001b[38;5;28mself\u001b[39m\u001b[38;5;241m.\u001b[39m_jit_compile \u001b[38;5;28;01melse\u001b[39;00m \u001b[38;5;124m\"\u001b[39m\u001b[38;5;124mnonXla\u001b[39m\u001b[38;5;124m\"\u001b[39m\n\u001b[1;32m    830\u001b[0m \u001b[38;5;28;01mwith\u001b[39;00m OptionalXlaContext(\u001b[38;5;28mself\u001b[39m\u001b[38;5;241m.\u001b[39m_jit_compile):\n\u001b[0;32m--> 831\u001b[0m   result \u001b[38;5;241m=\u001b[39m \u001b[38;5;28;43mself\u001b[39;49m\u001b[38;5;241;43m.\u001b[39;49m\u001b[43m_call\u001b[49m\u001b[43m(\u001b[49m\u001b[38;5;241;43m*\u001b[39;49m\u001b[43margs\u001b[49m\u001b[43m,\u001b[49m\u001b[43m \u001b[49m\u001b[38;5;241;43m*\u001b[39;49m\u001b[38;5;241;43m*\u001b[39;49m\u001b[43mkwds\u001b[49m\u001b[43m)\u001b[49m\n\u001b[1;32m    833\u001b[0m new_tracing_count \u001b[38;5;241m=\u001b[39m \u001b[38;5;28mself\u001b[39m\u001b[38;5;241m.\u001b[39mexperimental_get_tracing_count()\n\u001b[1;32m    834\u001b[0m without_tracing \u001b[38;5;241m=\u001b[39m (tracing_count \u001b[38;5;241m==\u001b[39m new_tracing_count)\n",
      "File \u001b[0;32m/usr/local/lib/python3.11/site-packages/tensorflow/python/eager/polymorphic_function/polymorphic_function.py:867\u001b[0m, in \u001b[0;36mFunction._call\u001b[0;34m(self, *args, **kwds)\u001b[0m\n\u001b[1;32m    864\u001b[0m   \u001b[38;5;28mself\u001b[39m\u001b[38;5;241m.\u001b[39m_lock\u001b[38;5;241m.\u001b[39mrelease()\n\u001b[1;32m    865\u001b[0m   \u001b[38;5;66;03m# In this case we have created variables on the first call, so we run the\u001b[39;00m\n\u001b[1;32m    866\u001b[0m   \u001b[38;5;66;03m# defunned version which is guaranteed to never create variables.\u001b[39;00m\n\u001b[0;32m--> 867\u001b[0m   \u001b[38;5;28;01mreturn\u001b[39;00m \u001b[43mtracing_compilation\u001b[49m\u001b[38;5;241;43m.\u001b[39;49m\u001b[43mcall_function\u001b[49m\u001b[43m(\u001b[49m\n\u001b[1;32m    868\u001b[0m \u001b[43m      \u001b[49m\u001b[43margs\u001b[49m\u001b[43m,\u001b[49m\u001b[43m \u001b[49m\u001b[43mkwds\u001b[49m\u001b[43m,\u001b[49m\u001b[43m \u001b[49m\u001b[38;5;28;43mself\u001b[39;49m\u001b[38;5;241;43m.\u001b[39;49m\u001b[43m_no_variable_creation_config\u001b[49m\n\u001b[1;32m    869\u001b[0m \u001b[43m  \u001b[49m\u001b[43m)\u001b[49m\n\u001b[1;32m    870\u001b[0m \u001b[38;5;28;01melif\u001b[39;00m \u001b[38;5;28mself\u001b[39m\u001b[38;5;241m.\u001b[39m_variable_creation_config \u001b[38;5;129;01mis\u001b[39;00m \u001b[38;5;129;01mnot\u001b[39;00m \u001b[38;5;28;01mNone\u001b[39;00m:\n\u001b[1;32m    871\u001b[0m   \u001b[38;5;66;03m# Release the lock early so that multiple threads can perform the call\u001b[39;00m\n\u001b[1;32m    872\u001b[0m   \u001b[38;5;66;03m# in parallel.\u001b[39;00m\n\u001b[1;32m    873\u001b[0m   \u001b[38;5;28mself\u001b[39m\u001b[38;5;241m.\u001b[39m_lock\u001b[38;5;241m.\u001b[39mrelease()\n",
      "File \u001b[0;32m/usr/local/lib/python3.11/site-packages/tensorflow/python/eager/polymorphic_function/tracing_compilation.py:139\u001b[0m, in \u001b[0;36mcall_function\u001b[0;34m(args, kwargs, tracing_options)\u001b[0m\n\u001b[1;32m    137\u001b[0m bound_args \u001b[38;5;241m=\u001b[39m function\u001b[38;5;241m.\u001b[39mfunction_type\u001b[38;5;241m.\u001b[39mbind(\u001b[38;5;241m*\u001b[39margs, \u001b[38;5;241m*\u001b[39m\u001b[38;5;241m*\u001b[39mkwargs)\n\u001b[1;32m    138\u001b[0m flat_inputs \u001b[38;5;241m=\u001b[39m function\u001b[38;5;241m.\u001b[39mfunction_type\u001b[38;5;241m.\u001b[39munpack_inputs(bound_args)\n\u001b[0;32m--> 139\u001b[0m \u001b[38;5;28;01mreturn\u001b[39;00m \u001b[43mfunction\u001b[49m\u001b[38;5;241;43m.\u001b[39;49m\u001b[43m_call_flat\u001b[49m\u001b[43m(\u001b[49m\u001b[43m  \u001b[49m\u001b[38;5;66;43;03m# pylint: disable=protected-access\u001b[39;49;00m\n\u001b[1;32m    140\u001b[0m \u001b[43m    \u001b[49m\u001b[43mflat_inputs\u001b[49m\u001b[43m,\u001b[49m\u001b[43m \u001b[49m\u001b[43mcaptured_inputs\u001b[49m\u001b[38;5;241;43m=\u001b[39;49m\u001b[43mfunction\u001b[49m\u001b[38;5;241;43m.\u001b[39;49m\u001b[43mcaptured_inputs\u001b[49m\n\u001b[1;32m    141\u001b[0m \u001b[43m\u001b[49m\u001b[43m)\u001b[49m\n",
      "File \u001b[0;32m/usr/local/lib/python3.11/site-packages/tensorflow/python/eager/polymorphic_function/concrete_function.py:1264\u001b[0m, in \u001b[0;36mConcreteFunction._call_flat\u001b[0;34m(self, tensor_inputs, captured_inputs)\u001b[0m\n\u001b[1;32m   1260\u001b[0m possible_gradient_type \u001b[38;5;241m=\u001b[39m gradients_util\u001b[38;5;241m.\u001b[39mPossibleTapeGradientTypes(args)\n\u001b[1;32m   1261\u001b[0m \u001b[38;5;28;01mif\u001b[39;00m (possible_gradient_type \u001b[38;5;241m==\u001b[39m gradients_util\u001b[38;5;241m.\u001b[39mPOSSIBLE_GRADIENT_TYPES_NONE\n\u001b[1;32m   1262\u001b[0m     \u001b[38;5;129;01mand\u001b[39;00m executing_eagerly):\n\u001b[1;32m   1263\u001b[0m   \u001b[38;5;66;03m# No tape is watching; skip to running the function.\u001b[39;00m\n\u001b[0;32m-> 1264\u001b[0m   \u001b[38;5;28;01mreturn\u001b[39;00m \u001b[38;5;28;43mself\u001b[39;49m\u001b[38;5;241;43m.\u001b[39;49m\u001b[43m_inference_function\u001b[49m\u001b[38;5;241;43m.\u001b[39;49m\u001b[43mflat_call\u001b[49m\u001b[43m(\u001b[49m\u001b[43margs\u001b[49m\u001b[43m)\u001b[49m\n\u001b[1;32m   1265\u001b[0m forward_backward \u001b[38;5;241m=\u001b[39m \u001b[38;5;28mself\u001b[39m\u001b[38;5;241m.\u001b[39m_select_forward_and_backward_functions(\n\u001b[1;32m   1266\u001b[0m     args,\n\u001b[1;32m   1267\u001b[0m     possible_gradient_type,\n\u001b[1;32m   1268\u001b[0m     executing_eagerly)\n\u001b[1;32m   1269\u001b[0m forward_function, args_with_tangents \u001b[38;5;241m=\u001b[39m forward_backward\u001b[38;5;241m.\u001b[39mforward()\n",
      "File \u001b[0;32m/usr/local/lib/python3.11/site-packages/tensorflow/python/eager/polymorphic_function/atomic_function.py:217\u001b[0m, in \u001b[0;36mAtomicFunction.flat_call\u001b[0;34m(self, args)\u001b[0m\n\u001b[1;32m    215\u001b[0m \u001b[38;5;28;01mdef\u001b[39;00m \u001b[38;5;21mflat_call\u001b[39m(\u001b[38;5;28mself\u001b[39m, args: Sequence[core\u001b[38;5;241m.\u001b[39mTensor]) \u001b[38;5;241m-\u001b[39m\u001b[38;5;241m>\u001b[39m Any:\n\u001b[1;32m    216\u001b[0m \u001b[38;5;250m  \u001b[39m\u001b[38;5;124;03m\"\"\"Calls with tensor inputs and returns the structured output.\"\"\"\u001b[39;00m\n\u001b[0;32m--> 217\u001b[0m   flat_outputs \u001b[38;5;241m=\u001b[39m \u001b[38;5;28;43mself\u001b[39;49m\u001b[43m(\u001b[49m\u001b[38;5;241;43m*\u001b[39;49m\u001b[43margs\u001b[49m\u001b[43m)\u001b[49m\n\u001b[1;32m    218\u001b[0m   \u001b[38;5;28;01mreturn\u001b[39;00m \u001b[38;5;28mself\u001b[39m\u001b[38;5;241m.\u001b[39mfunction_type\u001b[38;5;241m.\u001b[39mpack_output(flat_outputs)\n",
      "File \u001b[0;32m/usr/local/lib/python3.11/site-packages/tensorflow/python/eager/polymorphic_function/atomic_function.py:252\u001b[0m, in \u001b[0;36mAtomicFunction.__call__\u001b[0;34m(self, *args)\u001b[0m\n\u001b[1;32m    250\u001b[0m \u001b[38;5;28;01mwith\u001b[39;00m record\u001b[38;5;241m.\u001b[39mstop_recording():\n\u001b[1;32m    251\u001b[0m   \u001b[38;5;28;01mif\u001b[39;00m \u001b[38;5;28mself\u001b[39m\u001b[38;5;241m.\u001b[39m_bound_context\u001b[38;5;241m.\u001b[39mexecuting_eagerly():\n\u001b[0;32m--> 252\u001b[0m     outputs \u001b[38;5;241m=\u001b[39m \u001b[38;5;28;43mself\u001b[39;49m\u001b[38;5;241;43m.\u001b[39;49m\u001b[43m_bound_context\u001b[49m\u001b[38;5;241;43m.\u001b[39;49m\u001b[43mcall_function\u001b[49m\u001b[43m(\u001b[49m\n\u001b[1;32m    253\u001b[0m \u001b[43m        \u001b[49m\u001b[38;5;28;43mself\u001b[39;49m\u001b[38;5;241;43m.\u001b[39;49m\u001b[43mname\u001b[49m\u001b[43m,\u001b[49m\n\u001b[1;32m    254\u001b[0m \u001b[43m        \u001b[49m\u001b[38;5;28;43mlist\u001b[39;49m\u001b[43m(\u001b[49m\u001b[43margs\u001b[49m\u001b[43m)\u001b[49m\u001b[43m,\u001b[49m\n\u001b[1;32m    255\u001b[0m \u001b[43m        \u001b[49m\u001b[38;5;28;43mlen\u001b[39;49m\u001b[43m(\u001b[49m\u001b[38;5;28;43mself\u001b[39;49m\u001b[38;5;241;43m.\u001b[39;49m\u001b[43mfunction_type\u001b[49m\u001b[38;5;241;43m.\u001b[39;49m\u001b[43mflat_outputs\u001b[49m\u001b[43m)\u001b[49m\u001b[43m,\u001b[49m\n\u001b[1;32m    256\u001b[0m \u001b[43m    \u001b[49m\u001b[43m)\u001b[49m\n\u001b[1;32m    257\u001b[0m   \u001b[38;5;28;01melse\u001b[39;00m:\n\u001b[1;32m    258\u001b[0m     outputs \u001b[38;5;241m=\u001b[39m make_call_op_in_graph(\n\u001b[1;32m    259\u001b[0m         \u001b[38;5;28mself\u001b[39m,\n\u001b[1;32m    260\u001b[0m         \u001b[38;5;28mlist\u001b[39m(args),\n\u001b[1;32m    261\u001b[0m         \u001b[38;5;28mself\u001b[39m\u001b[38;5;241m.\u001b[39m_bound_context\u001b[38;5;241m.\u001b[39mfunction_call_options\u001b[38;5;241m.\u001b[39mas_attrs(),\n\u001b[1;32m    262\u001b[0m     )\n",
      "File \u001b[0;32m/usr/local/lib/python3.11/site-packages/tensorflow/python/eager/context.py:1479\u001b[0m, in \u001b[0;36mContext.call_function\u001b[0;34m(self, name, tensor_inputs, num_outputs)\u001b[0m\n\u001b[1;32m   1477\u001b[0m cancellation_context \u001b[38;5;241m=\u001b[39m cancellation\u001b[38;5;241m.\u001b[39mcontext()\n\u001b[1;32m   1478\u001b[0m \u001b[38;5;28;01mif\u001b[39;00m cancellation_context \u001b[38;5;129;01mis\u001b[39;00m \u001b[38;5;28;01mNone\u001b[39;00m:\n\u001b[0;32m-> 1479\u001b[0m   outputs \u001b[38;5;241m=\u001b[39m \u001b[43mexecute\u001b[49m\u001b[38;5;241;43m.\u001b[39;49m\u001b[43mexecute\u001b[49m\u001b[43m(\u001b[49m\n\u001b[1;32m   1480\u001b[0m \u001b[43m      \u001b[49m\u001b[43mname\u001b[49m\u001b[38;5;241;43m.\u001b[39;49m\u001b[43mdecode\u001b[49m\u001b[43m(\u001b[49m\u001b[38;5;124;43m\"\u001b[39;49m\u001b[38;5;124;43mutf-8\u001b[39;49m\u001b[38;5;124;43m\"\u001b[39;49m\u001b[43m)\u001b[49m\u001b[43m,\u001b[49m\n\u001b[1;32m   1481\u001b[0m \u001b[43m      \u001b[49m\u001b[43mnum_outputs\u001b[49m\u001b[38;5;241;43m=\u001b[39;49m\u001b[43mnum_outputs\u001b[49m\u001b[43m,\u001b[49m\n\u001b[1;32m   1482\u001b[0m \u001b[43m      \u001b[49m\u001b[43minputs\u001b[49m\u001b[38;5;241;43m=\u001b[39;49m\u001b[43mtensor_inputs\u001b[49m\u001b[43m,\u001b[49m\n\u001b[1;32m   1483\u001b[0m \u001b[43m      \u001b[49m\u001b[43mattrs\u001b[49m\u001b[38;5;241;43m=\u001b[39;49m\u001b[43mattrs\u001b[49m\u001b[43m,\u001b[49m\n\u001b[1;32m   1484\u001b[0m \u001b[43m      \u001b[49m\u001b[43mctx\u001b[49m\u001b[38;5;241;43m=\u001b[39;49m\u001b[38;5;28;43mself\u001b[39;49m\u001b[43m,\u001b[49m\n\u001b[1;32m   1485\u001b[0m \u001b[43m  \u001b[49m\u001b[43m)\u001b[49m\n\u001b[1;32m   1486\u001b[0m \u001b[38;5;28;01melse\u001b[39;00m:\n\u001b[1;32m   1487\u001b[0m   outputs \u001b[38;5;241m=\u001b[39m execute\u001b[38;5;241m.\u001b[39mexecute_with_cancellation(\n\u001b[1;32m   1488\u001b[0m       name\u001b[38;5;241m.\u001b[39mdecode(\u001b[38;5;124m\"\u001b[39m\u001b[38;5;124mutf-8\u001b[39m\u001b[38;5;124m\"\u001b[39m),\n\u001b[1;32m   1489\u001b[0m       num_outputs\u001b[38;5;241m=\u001b[39mnum_outputs,\n\u001b[0;32m   (...)\u001b[0m\n\u001b[1;32m   1493\u001b[0m       cancellation_manager\u001b[38;5;241m=\u001b[39mcancellation_context,\n\u001b[1;32m   1494\u001b[0m   )\n",
      "File \u001b[0;32m/usr/local/lib/python3.11/site-packages/tensorflow/python/eager/execute.py:60\u001b[0m, in \u001b[0;36mquick_execute\u001b[0;34m(op_name, num_outputs, inputs, attrs, ctx, name)\u001b[0m\n\u001b[1;32m     53\u001b[0m   \u001b[38;5;66;03m# Convert any objects of type core_types.Tensor to Tensor.\u001b[39;00m\n\u001b[1;32m     54\u001b[0m   inputs \u001b[38;5;241m=\u001b[39m [\n\u001b[1;32m     55\u001b[0m       tensor_conversion_registry\u001b[38;5;241m.\u001b[39mconvert(t)\n\u001b[1;32m     56\u001b[0m       \u001b[38;5;28;01mif\u001b[39;00m \u001b[38;5;28misinstance\u001b[39m(t, core_types\u001b[38;5;241m.\u001b[39mTensor)\n\u001b[1;32m     57\u001b[0m       \u001b[38;5;28;01melse\u001b[39;00m t\n\u001b[1;32m     58\u001b[0m       \u001b[38;5;28;01mfor\u001b[39;00m t \u001b[38;5;129;01min\u001b[39;00m inputs\n\u001b[1;32m     59\u001b[0m   ]\n\u001b[0;32m---> 60\u001b[0m   tensors \u001b[38;5;241m=\u001b[39m \u001b[43mpywrap_tfe\u001b[49m\u001b[38;5;241;43m.\u001b[39;49m\u001b[43mTFE_Py_Execute\u001b[49m\u001b[43m(\u001b[49m\u001b[43mctx\u001b[49m\u001b[38;5;241;43m.\u001b[39;49m\u001b[43m_handle\u001b[49m\u001b[43m,\u001b[49m\u001b[43m \u001b[49m\u001b[43mdevice_name\u001b[49m\u001b[43m,\u001b[49m\u001b[43m \u001b[49m\u001b[43mop_name\u001b[49m\u001b[43m,\u001b[49m\n\u001b[1;32m     61\u001b[0m \u001b[43m                                      \u001b[49m\u001b[43minputs\u001b[49m\u001b[43m,\u001b[49m\u001b[43m \u001b[49m\u001b[43mattrs\u001b[49m\u001b[43m,\u001b[49m\u001b[43m \u001b[49m\u001b[43mnum_outputs\u001b[49m\u001b[43m)\u001b[49m\n\u001b[1;32m     62\u001b[0m \u001b[38;5;28;01mexcept\u001b[39;00m core\u001b[38;5;241m.\u001b[39m_NotOkStatusException \u001b[38;5;28;01mas\u001b[39;00m e:\n\u001b[1;32m     63\u001b[0m   \u001b[38;5;28;01mif\u001b[39;00m name \u001b[38;5;129;01mis\u001b[39;00m \u001b[38;5;129;01mnot\u001b[39;00m \u001b[38;5;28;01mNone\u001b[39;00m:\n",
      "\u001b[0;31mKeyboardInterrupt\u001b[0m: "
     ]
    }
   ],
   "source": [
    "hist = onet.fit(x=X, y=y, epochs = 25, verbose = True, batch_size=1, validation_data=(X_test, y_test), callbacks=_callbacks)"
   ]
  },
  {
   "cell_type": "code",
   "execution_count": null,
   "metadata": {},
   "outputs": [],
   "source": [
    "visualiseFits(hist)"
   ]
  },
  {
   "cell_type": "code",
   "execution_count": null,
   "metadata": {},
   "outputs": [],
   "source": [
    "onet.load_weights(modelPath)"
   ]
  },
  {
   "cell_type": "code",
   "execution_count": null,
   "metadata": {},
   "outputs": [],
   "source": [
    "preds = []\n",
    "for i in tqdm(range(436)):\n",
    "    row  = grid[i*1024:(i+1)*1024]\n",
    "    out = onet.predict([first_broadcasted, row], batch_size=16, verbose = True)\n",
    "    preds.append(out)\n",
    "\n",
    "preds = np.array(preds)\n",
    "print(preds.shape)\n",
    "\n",
    "preds = preds.reshape(436, 1024, 2)\n",
    "print(preds)"
   ]
  },
  {
   "cell_type": "code",
   "execution_count": null,
   "metadata": {},
   "outputs": [],
   "source": [
    "visualiser.visualiseOpticalFlow(preds)"
   ]
  }
 ],
 "metadata": {
  "kernelspec": {
   "display_name": "Python 3",
   "language": "python",
   "name": "python3"
  },
  "language_info": {
   "codemirror_mode": {
    "name": "ipython",
    "version": 3
   },
   "file_extension": ".py",
   "mimetype": "text/x-python",
   "name": "python",
   "nbconvert_exporter": "python",
   "pygments_lexer": "ipython3",
   "version": "3.11.6"
  }
 },
 "nbformat": 4,
 "nbformat_minor": 2
}
